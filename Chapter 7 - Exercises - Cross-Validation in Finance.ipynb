{
 "cells": [
  {
   "cell_type": "markdown",
   "metadata": {},
   "source": [
    "# Chapter 7"
   ]
  },
  {
   "cell_type": "markdown",
   "metadata": {},
   "source": [
    "## Cross-Validation in Finance"
   ]
  },
  {
   "cell_type": "markdown",
   "metadata": {},
   "source": [
    "### Exercises"
   ]
  },
  {
   "cell_type": "code",
   "execution_count": 1,
   "metadata": {},
   "outputs": [],
   "source": [
    "import numpy as np\n",
    "import pandas as pd\n",
    "import matplotlib.pyplot as plt\n",
    "%matplotlib inline\n",
    "from sklearn.ensemble import RandomForestClassifier, BaggingClassifier\n",
    "from sklearn.model_selection import train_test_split\n",
    "from sklearn.metrics import roc_curve, classification_report, confusion_matrix, log_loss, accuracy_score\n",
    "import copy\n",
    "from statsmodels.tsa.stattools import adfuller"
   ]
  },
  {
   "cell_type": "code",
   "execution_count": 2,
   "metadata": {},
   "outputs": [],
   "source": [
    "def getDailyVol(close, span0=100):\n",
    "    # daily vol reindexed to close\n",
    "    df0=close.index.searchsorted(close.index - pd.Timedelta(days=1))\n",
    "    df0=df0[df0>0]\n",
    "    df0=(pd.Series(close.index[df0-1], index=close.index[close.shape[0]-df0.shape[0]:]))\n",
    "    \n",
    "    try:\n",
    "        df0=close.loc[df0.index]/close.loc[df0.values].values-1  # daily rets\n",
    "        \n",
    "    except Exception as e:\n",
    "        print(f'error: {e}\\nplease confirm no duplicate indices')\n",
    "        \n",
    "    df0=df0.ewm(span=span0).std().rename('dailyVol')\n",
    "    \n",
    "    return df0"
   ]
  },
  {
   "cell_type": "code",
   "execution_count": 3,
   "metadata": {},
   "outputs": [],
   "source": [
    "def getTEvents(gRaw, h):\n",
    "    tEvents, sPos, sNeg = [], 0, 0\n",
    "    diff = gRaw.diff()\n",
    "    for i in diff.index[1:]:\n",
    "        sPos, sNeg = max(0,sPos+diff.loc[i]), min(0, sNeg+diff.loc[i])\n",
    "        if sNeg < -h:\n",
    "            sNeg=0\n",
    "            tEvents.append(i)\n",
    "        elif sPos > h:\n",
    "            sPos = 0\n",
    "            tEvents.append(i)\n",
    "        \n",
    "    return pd.DatetimeIndex(tEvents)    "
   ]
  },
  {
   "cell_type": "code",
   "execution_count": 4,
   "metadata": {},
   "outputs": [],
   "source": [
    "def addVerticalBarrier(tEvents, close, numDays=1):\n",
    "    t1 = close.index.searchsorted(tEvents + pd.Timedelta(days=numDays))\n",
    "    t1 = t1[t1<close.shape[0]]\n",
    "    t1 = (pd.Series(close.index[t1],index=tEvents[:t1.shape[0]]))\n",
    "    return t1"
   ]
  },
  {
   "cell_type": "code",
   "execution_count": 5,
   "metadata": {},
   "outputs": [],
   "source": [
    "def getEvents(close, tEvents, ptSl, trgt, minRet, numThreads, t1=False, side=None):\n",
    "    #1 get target\n",
    "    trgt = trgt.loc[tEvents]\n",
    "    trgt = trgt[trgt>minRet]  # minRet\n",
    "    \n",
    "    #2 get t1 (max holding period)\n",
    "    if t1 is False:\n",
    "        t1 = pd.Series(pd.NaT, index=tEvents)\n",
    "        \n",
    "    #3) form events object, apply stop loss on t1\n",
    "    if side is None:\n",
    "        side_,ptSl_ = pd.Series(1.,index=trgt.index), [ptSl[0],ptSl[0]]\n",
    "    else:\n",
    "        side_,ptSl_ = side.loc[trgt.index],ptSl[:2]\n",
    "    \n",
    "    events = (pd.concat({'t1':t1,'trgt':trgt,'side':side_},axis=1).dropna(subset=['trgt']))\n",
    "    \n",
    "    df0 = mpPandasObj(func=applyPtSlOnT1,pdObj=('molecule',events.index), numThreads=numThreads, \n",
    "                     close=close, events=events, ptSl=ptSl)\n",
    "    \n",
    "    events['t1']=df0.dropna(how='all').min(axis=1)  # pd.min ignores nan\n",
    "    if side is None: \n",
    "        events = events.drop('side',axis=1)\n",
    "    \n",
    "    return events   \n",
    "    \n",
    "    \n",
    "    \n",
    "\n",
    "def getEvents2(close, tEvents, ptSl, trgt, minRet, t1=False, side=None):\n",
    "    #1 get target\n",
    "    trgt = trgt.loc[tEvents]\n",
    "    trgt = trgt[trgt>minRet]  # minRet\n",
    "    \n",
    "    #2 get t1 (max holding period)\n",
    "    if t1 is False:\n",
    "        t1 = pd.Series(pd.NaT, index=tEvents)\n",
    "        \n",
    "    #3) form events object, apply stop loss on t1\n",
    "    if side is None:\n",
    "        side_,ptSl_ = pd.Series(1.,index=trgt.index), [ptSl[0],ptSl[0]]\n",
    "    else:\n",
    "        side_,ptSl_ = side.loc[trgt.index],ptSl[:2]\n",
    "    \n",
    "    events = (pd.concat({'t1':t1,'trgt':trgt,'side':side_},axis=1).dropna(subset=['trgt']))\n",
    "    \n",
    "    molecule = events.index\n",
    "    df0 = applyPtSlOnT1(close, events, ptSl, molecule)\n",
    "       \n",
    "    #df0 = mpPandasObj(func=applyPtSlOnT1,pdObj=('molecule',events.index), numThreads=numThreads, \n",
    "    #                 close=close, events=events, ptSl=ptSl)\n",
    "    \n",
    "    events['t1']=df0.dropna(how='all').min(axis=1)  # pd.min ignores nan\n",
    "    if side is None: \n",
    "        events = events.drop('side',axis=1)\n",
    "    \n",
    "    return events  \n",
    "\n",
    "\n",
    "\n",
    "\n",
    "def applyPtSlOnT1(close,events,ptSl,molecule):\n",
    "    \n",
    "    # apply profit taking / stop loss if it takes place before t1 (end of event)\n",
    "    \n",
    "    events_ = events.loc[molecule]\n",
    "    out=events_[['t1']].copy(deep=True)\n",
    "    \n",
    "    if ptSl[0]>0:\n",
    "        pt=ptSl[0]*events_['trgt']\n",
    "    else:\n",
    "        pt = pd.Series(index=events.index)  # NaNs\n",
    "        \n",
    "    if ptSl[1]>0:\n",
    "        sl = -ptSl[1]*events_['trgt']\n",
    "    else:\n",
    "        sl = pd.Series(index=events.index)  #NaNs\n",
    "    \n",
    "    for loc,t1 in events_['t1'].fillna(close.index[-1]).iteritems():\n",
    "        df0 = close[loc:t1]   # path prices\n",
    "        df0 = (df0/close[loc]-1) * events_.at[loc,'side']  # path returns\n",
    "        out.loc[loc,'sl'] = df0[df0 < sl[loc]].index.min()   # earliest stop loss\n",
    "        out.loc[loc, 'pt'] = df0[df0 > pt[loc]].index.min()  # earliest profit taking\n",
    "    \n",
    "    return out"
   ]
  },
  {
   "cell_type": "code",
   "execution_count": 6,
   "metadata": {},
   "outputs": [],
   "source": [
    "def getBins(events, close):\n",
    "    \"\"\"\n",
    "    Compute event's outcome (including side information, if provided).\n",
    "    events is a DataFrame where:\n",
    "    -events.index is event's starttime\n",
    "    -events['t1'] is event's endtime\n",
    "    events['trgt'] is event's target\n",
    "    -events['side] (optional) implies the algo's position side\n",
    "    Case 1: ('side' not in events): bin in (.1,1) <- label by price action\n",
    "    Case 2: ('side' in events): bin in (0,1) <- label by pnl (meta-labeling)\n",
    "    \"\"\"\n",
    "    \n",
    "    #1 prices aligned with events\n",
    "    events_ = events.dropna(subset=['t1'])\n",
    "    px = events_.index.union(events_['t1'].values).drop_duplicates()\n",
    "    px = close.reindex(px, method='bfill')\n",
    "    \n",
    "    #2 create out object \n",
    "    out = pd.DataFrame(index=events_.index)\n",
    "    out['ret'] = px.loc[events_['t1'].values].values/px.loc[events_.index]-1\n",
    "    \n",
    "    if 'side' in events_:\n",
    "        out['ret'] *= events_['side']  # meta-labeling\n",
    "    \n",
    "    out['bin'] = np.sign(out['ret'])\n",
    "    \n",
    "    if 'side' in events_:\n",
    "        out.loc[out['ret'] <= 0, 'bin'] = 0   # meta-labeling\n",
    "    \n",
    "    return out"
   ]
  },
  {
   "cell_type": "code",
   "execution_count": 7,
   "metadata": {},
   "outputs": [],
   "source": [
    "# Auto-correlation:\n",
    "# These functions have been taken from the github BlackArbsCEO/Adv_Fin_ML_Exercises by Brian Chistopher - Blackarbs\n",
    "\n",
    "def returns(s):\n",
    "    arr = np.diff(np.log(s))\n",
    "    return (pd.Series(arr, index=s.index[1:]))\n",
    "\n",
    "def df_rolling_autocorr(df, window, lag=1):\n",
    "    \"\"\"Compute rolling column-wise autocorrelation for a Dataframe\"\"\"\n",
    "    return (df.rolling(window=window).corr(df.shift(lag)))\n"
   ]
  },
  {
   "cell_type": "code",
   "execution_count": 8,
   "metadata": {},
   "outputs": [],
   "source": [
    "#SNIPPET 7.1 PURGING OBSERVATION IN THE TRAINING SET\n",
    "\n",
    "def getTrainTimes(t1,testTimes):\n",
    "    '''\n",
    "    Given testTimes, find the times of the training observations.\n",
    "    —t1.index: Time when the observation started.\n",
    "    —t1.value: Time when the observation ended.\n",
    "    —testTimes: Times of testing observations.\n",
    "    '''\n",
    "    trn=t1.copy(deep=True)\n",
    "    \n",
    "    for i,j in testTimes.iteritems():\n",
    "        df0=trn[(i<=trn.index)&(trn.index<=j)].index     # train starts within test\n",
    "        df1=trn[(i<=trn)&(trn<=j)].index                 # train ends within test\n",
    "        df2=trn[(trn.index<=i)&(j<=trn)].index           # train envelops test\n",
    "        trn=trn.drop(df0.union(df1).union(df2))\n",
    "    return trn"
   ]
  },
  {
   "cell_type": "code",
   "execution_count": 9,
   "metadata": {},
   "outputs": [],
   "source": [
    "# SNIPPET 7.2 EMBARGO ON TRAINING OBSERVATIONS\n",
    "def getEmbargoTimes(times,pctEmbargo):\n",
    "    # Get embargo time for each bar\n",
    "    step=int(times.shape[0]*pctEmbargo)\n",
    "    if step==0:\n",
    "        mbrg=pd.Series(times,index=times)\n",
    "    else:\n",
    "        mbrg=pd.Series(times[step:],index=times[:-step])\n",
    "        mbrg=mbrg.append(pd.Series(times[-1],index=times[-step:]))\n",
    "    return mbrg"
   ]
  },
  {
   "cell_type": "code",
   "execution_count": 10,
   "metadata": {},
   "outputs": [],
   "source": [
    "#SNIPPET 7.3 CROSS-VALIDATION CLASS WHEN OBSERVATIONS OVERLAP\n",
    "\n",
    "from sklearn.model_selection._split import _BaseKFold\n",
    "\n",
    "class PurgedKFold(_BaseKFold):\n",
    "    '''\n",
    "    Extend KFold class to work with labels that span intervals\n",
    "    The train is purged of observations overlapping test-label intervals\n",
    "    Test set is assumed contiguous (shuffle=False), w/o training samples in between\n",
    "    '''\n",
    "    \n",
    "    def __init__(self, n_splits=3, t1=None, pctEmbargo=0.):\n",
    "        \n",
    "        if not isinstance(t1, pd.Series):\n",
    "            raise ValueError('Label Through Dates must be a pd.Series')\n",
    "            \n",
    "        super(PurgedKFold,self).__init__(n_splits,shuffle=False,random_state=None)\n",
    "        self.t1=t1\n",
    "        self.pctEmbargo=pctEmbargo\n",
    "    \n",
    "    \n",
    "    def split(self,X,y=None,groups=None):\n",
    "        \n",
    "        if (X.index==self.t1.index).sum()!=len(self.t1):\n",
    "            raise ValueError('X and ThruDateValues must have the same index')\n",
    "            \n",
    "        indices=np.arange(X.shape[0])\n",
    "        mbrg=int(X.shape[0]*self.pctEmbargo)\n",
    "        test_starts=[(i[0],i[-1]+1) for i in \\\n",
    "            np.array_split(np.arange(X.shape[0]),self.n_splits)]\n",
    "        \n",
    "        for i,j in test_starts:\n",
    "            \n",
    "            t0=self.t1.index[i] # start of test set\n",
    "            test_indices=indices[i:j]\n",
    "            maxT1Idx=self.t1.index.searchsorted(self.t1[test_indices].max())\n",
    "            train_indices=self.t1.index.searchsorted(self.t1[self.t1<=t0].index)\n",
    "            \n",
    "            if maxT1Idx<X.shape[0]: # right train (with embargo)\n",
    "                train_indices=np.concatenate((train_indices,indices[maxT1Idx+mbrg:]))\n",
    "                \n",
    "            yield train_indices,test_indices\n",
    "            \n",
    "            "
   ]
  },
  {
   "cell_type": "code",
   "execution_count": 11,
   "metadata": {},
   "outputs": [],
   "source": [
    "#SNIPPET 7.4 USING THE PurgedKFold CLASS\n",
    "\n",
    "def cvScore(clf, X, y, sample_weight, scoring='neg_log_loss', t1=None, cv=None, cvGen=None, pctEmbargo=None):\n",
    "    \n",
    "    if scoring not in ['neg_log_loss','accuracy']:\n",
    "        raise Exception('wrong scoring method.')\n",
    "    \n",
    "    from sklearn.metrics import log_loss,accuracy_score\n",
    "    #from clfSequential import PurgedKFold\n",
    "    \n",
    "    \n",
    "    if cvGen is None:\n",
    "        \n",
    "        cvGen=PurgedKFold(n_splits=cv,t1=t1,pctEmbargo=pctEmbargo) # purged\n",
    "    \n",
    "    '''\n",
    "    if cvGen is None:\n",
    "        if pctEmbargo==None:\n",
    "            cvGen = PurgedKFold(n_splits=cv, t1=t1)\n",
    "    else:\n",
    "            cvGen=PurgedKFold(n_splits=cv,t1=t1,pctEmbargo=pctEmbargo) # purged\n",
    "    '''\n",
    "    \n",
    "    score=[]\n",
    "    \n",
    "    for train,test in cvGen.split(X=X):    # book\n",
    "            \n",
    "        fit=clf.fit(X=X.iloc[train,:],y=y.iloc[train],sample_weight=sample_weight.iloc[train].values) # book\n",
    "        \n",
    "        #fit=clf.fit(X=X.iloc[train,:],y=y.iloc[train].values.reshape(-1),\\\n",
    "        #            sample_weight=sample_weight.iloc[train].values.reshape(-1))   # mc\n",
    "        \n",
    "        \n",
    "        if scoring=='neg_log_loss':\n",
    "            prob=fit.predict_proba(X.iloc[test,:])\n",
    "            score_=-log_loss(y.iloc[test],prob,sample_weight=sample_weight.iloc[test].values,labels=clf.classes_)\n",
    "        else:\n",
    "            pred=fit.predict(X.iloc[test,:])\n",
    "            score_=accuracy_score(y.iloc[test],pred,sample_weight= \\\n",
    "                sample_weight.iloc[test].values)\n",
    "            \n",
    "        score.append(score_)\n",
    "        \n",
    "    return np.array(score)\n",
    "\n",
    "\n",
    "# ----------------------- --------------------- ------------------------- ---------------------------\n",
    "\n",
    "\n",
    "def cvScore2_mc(clf, X, y, sample_weight, scoring='neg_log_loss', t1=None, cv=None, cvGen=None, pctEmbargo=None):\n",
    "    \n",
    "    if scoring not in ['neg_log_loss','accuracy']:\n",
    "        raise Exception('wrong scoring method.')\n",
    "    \n",
    "    from sklearn.metrics import log_loss,accuracy_score\n",
    "    #from clfSequential import PurgedKFold\n",
    "    \n",
    "    if cvGen is None:                                   # mc\n",
    "        if pctEmbargo==None:                            # mc\n",
    "            cvGen = PurgedKFold(n_splits=cv, t1=t1)     # mc\n",
    "        else:\n",
    "            cvGen=PurgedKFold(n_splits=cv,t1=t1,pctEmbargo=pctEmbargo) # purged , book\n",
    "    \n",
    "    score=[]\n",
    "    \n",
    "    for train,test in cvGen.split(X=X):    \n",
    "            \n",
    "        #fit=clf.fit(X=X.iloc[train,:],y=y.iloc[train],sample_weight=sample_weight.iloc[train].values) # book\n",
    "        \n",
    "        fit=clf.fit(X=X.iloc[train,:],y=y.iloc[train].values.reshape(-1),\\\n",
    "                    sample_weight=sample_weight.iloc[train].values.reshape(-1))   # mc\n",
    "        \n",
    "        \n",
    "        \n",
    "        \n",
    "        if scoring=='neg_log_loss':\n",
    "            \n",
    "            prob=fit.predict_proba(X.iloc[test,:])\n",
    "            \n",
    "            #score_=-log_loss(y.iloc[test],prob,sample_weight=sample_weight.iloc[test].values,labels=clf.classes_)\n",
    "            score_=-log_loss(y.iloc[test],prob,sample_weight=sample_weight.iloc[test].values.reshape(-1),labels=clf.classes_)\n",
    "            \n",
    "        else:\n",
    "            pred=fit.predict(X.iloc[test,:])\n",
    "            score_=accuracy_score(y.iloc[test],pred,sample_weight= \\\n",
    "                sample_weight.iloc[test].values)\n",
    "            \n",
    "        score.append(score_)\n",
    "        \n",
    "    return np.array(score)\n",
    "  \n",
    "\n"
   ]
  },
  {
   "cell_type": "code",
   "execution_count": 12,
   "metadata": {},
   "outputs": [],
   "source": [
    "def cvScore_shuffled(clf,X,y,sample_weight,scoring='neg_log_loss',t1=None,cv=None,cvGen=None,pctEmbargo=None):\n",
    "    \n",
    "    if scoring not in ['neg_log_loss','accuracy']:\n",
    "        raise Exception('wrong scoring method.')\n",
    "    \n",
    "    from sklearn.metrics import log_loss,accuracy_score\n",
    "    #from clfSequential import PurgedKFold\n",
    "    from sklearn.model_selection import KFold\n",
    "    \n",
    "    #if cvGen is None:\n",
    "    #    cvGen=PurgedKFold(n_splits=cv,t1=t1,pctEmbargo=pctEmbargo) # purged\n",
    "        \n",
    "    score=[]\n",
    "    \n",
    "    features_shuffled = features.sample(frac=1)\n",
    "    \n",
    "    #X = X.sample(frac=1)\n",
    "    #y = y.loc[X.index]\n",
    "    t1 = t1.loc[X.index]\n",
    "    \n",
    "    kf = KFold(n_splits=cv, shuffle=True)       # This is the line where the \"shuffle\" takes place\n",
    "    \n",
    "    \n",
    "    for train,test in kf.split(X):    \n",
    "            \n",
    "        #fit=clf.fit(X=X.iloc[train,:],y=y.iloc[train],sample_weight=sample_weight.iloc[train].values) # book\n",
    "        \n",
    "        fit=clf.fit(X=X.iloc[train,:],y=y.iloc[train].values.reshape(-1),\\\n",
    "                    sample_weight=sample_weight.iloc[train].values.reshape(-1))   # mc\n",
    "        \n",
    "        \n",
    "        \n",
    "        \n",
    "        if scoring=='neg_log_loss':\n",
    "            \n",
    "            prob=fit.predict_proba(X.iloc[test,:])\n",
    "            \n",
    "            #score_=-log_loss(y.iloc[test],prob,sample_weight=sample_weight.iloc[test].values,labels=clf.classes_)\n",
    "            score_=-log_loss(y.iloc[test],prob,sample_weight=sample_weight.iloc[test].values.reshape(-1),labels=clf.classes_)\n",
    "            \n",
    "        else:\n",
    "            pred=fit.predict(X.iloc[test,:])\n",
    "            score_=accuracy_score(y.iloc[test],pred,sample_weight= \\\n",
    "                sample_weight.iloc[test].values)\n",
    "            \n",
    "        score.append(score_)\n",
    "        \n",
    "    return np.array(score)"
   ]
  },
  {
   "cell_type": "code",
   "execution_count": 13,
   "metadata": {},
   "outputs": [],
   "source": [
    "def fracDiff_FFD(series,d,thres=1e-5):\n",
    "    '''\n",
    "    Constant width window (new solution)\n",
    "    Note 1: thres determines the cut-off weight for the window\n",
    "    Note 2: d can be any positive fractional, not necessarily bounded [0,1].\n",
    "    '''\n",
    "    #1) Compute weights for the longest series\n",
    "    w=getWeights_FFD(d,thres)\n",
    "    width=len(w)-1\n",
    "    \n",
    "    #2) Apply weights to values\n",
    "    df={}\n",
    "    \n",
    "    for name in series.columns:\n",
    "        seriesF,df_=series[[name]].fillna(method='ffill').dropna(),pd.Series()\n",
    "        \n",
    "        for iloc1 in range(width,seriesF.shape[0]):\n",
    "            loc0,loc1=seriesF.index[iloc1-width],seriesF.index[iloc1]\n",
    "            \n",
    "            if not np.isfinite(series.loc[loc1,name]):\n",
    "                continue # exclude NAs\n",
    "                \n",
    "            df_[loc1]=np.dot(w.T,seriesF.loc[loc0:loc1])[0,0]\n",
    "            \n",
    "        df[name]=df_.copy(deep=True)\n",
    "    df=pd.concat(df,axis=1)\n",
    "    return df"
   ]
  },
  {
   "cell_type": "code",
   "execution_count": 14,
   "metadata": {},
   "outputs": [],
   "source": [
    "def getWeights_FFD(d, thres):\n",
    "    # thres>0 drops insignificant weights\n",
    "    w, k = [1.], 1\n",
    "    \n",
    "    while True:\n",
    "        \n",
    "        w_ = -w[-1]/k * (d-k+1)\n",
    "        if abs(w_)<thres:\n",
    "            break\n",
    "        w.append(w_)\n",
    "        k+=1\n",
    "    w=np.array(w[::-1]).reshape(-1,1)\n",
    "    \n",
    "    return w  "
   ]
  },
  {
   "cell_type": "code",
   "execution_count": 15,
   "metadata": {},
   "outputs": [],
   "source": [
    "def getDailyVol(close, span0=100):\n",
    "    # daily vol reindexed to close\n",
    "    df0=close.index.searchsorted(close.index - pd.Timedelta(days=1))\n",
    "    df0=df0[df0>0]\n",
    "    df0=(pd.Series(close.index[df0-1], index=close.index[close.shape[0]-df0.shape[0]:]))\n",
    "    \n",
    "    try:\n",
    "        df0=close.loc[df0.index]/close.loc[df0.values].values-1  # daily rets\n",
    "        \n",
    "    except Exception as e:\n",
    "        print(f'error: {e}\\nplease confirm no duplicate indices')\n",
    "        \n",
    "    #df0=df0.ewm(span=span0).std().rename('dailyVol')\n",
    "    df0=df0.ewm(span=span0).std()\n",
    "    df0.columns = ['dailyVol']\n",
    "    \n",
    "    return df0"
   ]
  },
  {
   "cell_type": "code",
   "execution_count": 16,
   "metadata": {},
   "outputs": [],
   "source": [
    "# SNIPPET 2.4 - THE SYMMETRIC CUSUM FILTER\n",
    "\n",
    "def getTEvents(gRaw,h):\n",
    "    \n",
    "    tEvents,sPos,sNeg=[],0,0\n",
    "    diff=gRaw.diff()\n",
    "    \n",
    "    for i in diff.index[1:]:\n",
    "        sPos,sNeg=max(0,sPos+diff.loc[i]),min(0,sNeg+diff.loc[i])\n",
    "        \n",
    "        if sNeg<-h:\n",
    "            sNeg=0;tEvents.append(i)\n",
    "            \n",
    "        elif sPos>h:\n",
    "            sPos=0;tEvents.append(i)\n",
    "            \n",
    "    return pd.DatetimeIndex(tEvents)"
   ]
  },
  {
   "cell_type": "code",
   "execution_count": 17,
   "metadata": {},
   "outputs": [],
   "source": [
    "def getTEvents2(gRaw,h):\n",
    "    \n",
    "    tEvents,sPos,sNeg=[],0,0\n",
    "    diff=gRaw.diff()\n",
    "    up_dates = []\n",
    "    down_dates = []\n",
    "    \n",
    "    for i in diff.index[1:]:\n",
    "        sPos,sNeg=max(0,sPos+diff.loc[i]),min(0,sNeg+diff.loc[i])\n",
    "        \n",
    "        if sNeg<-h:\n",
    "            sNeg=0;tEvents.append(i)\n",
    "            down_dates.append(i)\n",
    "            \n",
    "        elif sPos>h:\n",
    "            sPos=0;tEvents.append(i)\n",
    "            up_dates.append(i)\n",
    "            \n",
    "    return pd.DatetimeIndex(tEvents), up_dates, down_dates"
   ]
  },
  {
   "cell_type": "code",
   "execution_count": 18,
   "metadata": {},
   "outputs": [],
   "source": [
    "def mpNumCoEvents(closeIdx,t1,molecule):\n",
    "    '''\n",
    "    Compute the number of concurrent events per bar.\n",
    "    +molecule[0] is the date of the first event on which the weight will be computed\n",
    "    +molecule[-1] is the date of the last event on which the weight will be computed\n",
    "    Any event that starts before t1[molecule].max() impacts the count.\n",
    "    '''\n",
    "\n",
    "    #1) find events that span the period [molecule[0],molecule[-1]]\n",
    "    \n",
    "    t1=t1.fillna(closeIdx[-1])       # unclosed events still must impact other weights\n",
    "    t1=t1[t1>=molecule[0]]           # events that end at or after molecule[0]\n",
    "    t1=t1.loc[:t1[molecule].max()]   # events that start at or before t1[molecule].max()\n",
    "    \n",
    "    #2) count events spanning a bar\n",
    "    \n",
    "    iloc=closeIdx.searchsorted(np.array([t1.index[0],t1.max()]))\n",
    "    count=pd.Series(0,index=closeIdx[iloc[0]:iloc[1]+1])\n",
    "    \n",
    "    for tIn,tOut in t1.iteritems():\n",
    "        count.loc[tIn:tOut]+=1.\n",
    "    \n",
    "    return count.loc[molecule[0]:t1[molecule].max()]\n",
    "\n",
    "    \n",
    "    "
   ]
  },
  {
   "cell_type": "code",
   "execution_count": 19,
   "metadata": {},
   "outputs": [],
   "source": [
    "def mpSampleW(t1,numCoEvents,close,molecule):\n",
    "    # Derive sample weight by return attribution\n",
    "    ret=np.log(close).diff() # log-returns, so that they are additive\n",
    "    wght=pd.Series(index=molecule)\n",
    "    \n",
    "    for tIn,tOut in t1.loc[wght.index].iteritems():\n",
    "        wght.loc[tIn]=(ret.loc[tIn:tOut]/numCoEvents.loc[tIn:tOut]).sum()\n",
    "    \n",
    "    return wght.abs()\n",
    "\n",
    "# out['w']*=out.shape[0]/out['w'].sum()"
   ]
  },
  {
   "cell_type": "code",
   "execution_count": 20,
   "metadata": {},
   "outputs": [],
   "source": [
    "def getTimeDecay(tW,clfLastW=1.):\n",
    "    \n",
    "    # apply piecewise-linear decay to observed uniqueness (tW)\n",
    "    # newest observation gets weight=1, oldest observation gets weight=clfLastW\n",
    "    \n",
    "    clfW=tW.sort_index().cumsum()\n",
    "    \n",
    "    if clfLastW>=0:\n",
    "        slope=(1.-clfLastW)/clfW.iloc[-1]\n",
    "    \n",
    "    else:\n",
    "        slope=1./((clfLastW+1)*clfW.iloc[-1])\n",
    "    \n",
    "    const=1.-slope*clfW.iloc[-1]\n",
    "    clfW=const+slope*clfW\n",
    "    clfW[clfW<0]=0\n",
    "    print (const,slope)\n",
    "    \n",
    "    return clfW"
   ]
  },
  {
   "cell_type": "code",
   "execution_count": 21,
   "metadata": {},
   "outputs": [],
   "source": [
    "def mpSampleTW(t1,numCoEvents,molecule):\n",
    "    # Derive average uniqueness over the event's lifespan\n",
    "    \n",
    "    wght=pd.Series(index=molecule)\n",
    "    \n",
    "    for tIn,tOut in t1.loc[wght.index].iteritems():\n",
    "        wght.loc[tIn]=(1./numCoEvents.loc[tIn:tOut]).mean()\n",
    "    return wght"
   ]
  },
  {
   "cell_type": "code",
   "execution_count": null,
   "metadata": {},
   "outputs": [],
   "source": []
  },
  {
   "cell_type": "markdown",
   "metadata": {},
   "source": [
    "# -------------------------------------------------------------------------------------------------------\n",
    "\n",
    " "
   ]
  },
  {
   "cell_type": "markdown",
   "metadata": {},
   "source": [
    " "
   ]
  },
  {
   "cell_type": "markdown",
   "metadata": {},
   "source": [
    "**7.1) Why is shuffling a dataset before conducting k-fold CV generally a bad idea in finance? What is the purpose of shuffling? Why does shuffling defeat the purpose of k-fold CV in financial datasets?**"
   ]
  },
  {
   "cell_type": "markdown",
   "metadata": {},
   "source": [
    "Financial series observations cannot be assumed to be drawn from an IID process, furthermore financial series often exhibit serial correlation, so that shuffling a dataset before cpducting k-fold CV generates a dataset with different statistical characteristics."
   ]
  },
  {
   "cell_type": "markdown",
   "metadata": {},
   "source": [
    "The purpose of shuffling is to composed all datasets with observations of all characteristics."
   ]
  },
  {
   "cell_type": "markdown",
   "metadata": {},
   "source": [
    "**7.2) Take a pair of matrices (X, y), representing observed features and labels. These could be one of the datasets derived from the exercises in Chapter 3.**"
   ]
  },
  {
   "cell_type": "code",
   "execution_count": 22,
   "metadata": {},
   "outputs": [],
   "source": [
    "# 1) Generación o importación de la serie de precios dollar_bar:\n",
    "dollar_bar = pd.read_parquet('dollar_bar.parq')"
   ]
  },
  {
   "cell_type": "code",
   "execution_count": 23,
   "metadata": {},
   "outputs": [],
   "source": [
    "close = dollar_bar.copy(deep=True)\n",
    "close = close.price"
   ]
  },
  {
   "cell_type": "code",
   "execution_count": 24,
   "metadata": {},
   "outputs": [
    {
     "data": {
      "text/plain": [
       "dates\n",
       "2009-09-28 09:53:49    51.138000\n",
       "2009-09-28 10:06:04    51.190000\n",
       "2009-09-28 10:19:50    51.210000\n",
       "2009-09-28 10:32:01    51.379725\n",
       "2009-09-28 10:53:46    51.330000\n",
       "Name: price, dtype: float64"
      ]
     },
     "execution_count": 24,
     "metadata": {},
     "output_type": "execute_result"
    }
   ],
   "source": [
    "close.head()"
   ]
  },
  {
   "cell_type": "code",
   "execution_count": 25,
   "metadata": {},
   "outputs": [],
   "source": [
    "# 2) Cálculo de la volatilidad: \n",
    "dailyVol = getDailyVol(close)"
   ]
  },
  {
   "cell_type": "code",
   "execution_count": 26,
   "metadata": {},
   "outputs": [
    {
     "data": {
      "text/plain": [
       "<matplotlib.lines.Line2D at 0x20ef11e4c50>"
      ]
     },
     "execution_count": 26,
     "metadata": {},
     "output_type": "execute_result"
    },
    {
     "data": {
      "image/png": "[encoded data removed]",
      "text/plain": [
       "<Figure size 432x288 with 1 Axes>"
      ]
     },
     "metadata": {
      "needs_background": "light"
     },
     "output_type": "display_data"
    }
   ],
   "source": [
    "plt.plot(dailyVol)\n",
    "plt.axhline(dailyVol.mean(), color = 'r')"
   ]
  },
  {
   "cell_type": "code",
   "execution_count": 27,
   "metadata": {},
   "outputs": [],
   "source": [
    "# 3) Generación de la serie tEvents:\n",
    "tEvents = getTEvents(close, dailyVol.mean())"
   ]
  },
  {
   "cell_type": "code",
   "execution_count": 28,
   "metadata": {},
   "outputs": [],
   "source": [
    "# 4) Implementar la barrera vertical de salida:\n",
    "t1 = addVerticalBarrier(tEvents, close, numDays = 1)"
   ]
  },
  {
   "cell_type": "code",
   "execution_count": 29,
   "metadata": {},
   "outputs": [],
   "source": [
    "# 5) Generación de la serie \"side\" que define el la dirección a tomar en cada evento.\n",
    "# Para este ejercicio la dirección de los eventos será determinada por el cruce de promedios móviles.\n",
    "\n",
    "# Para crear los cruces de los promedios móviles, primero serán generadas las series de promedios móviles y luego con \n",
    "# estas series se evalúan las condiciones de los cruces.\n",
    "\n",
    "fast_ma = 5\n",
    "slow_ma = 13\n",
    "\n",
    "price_df = (pd.DataFrame().assign(price = close)\n",
    "            .assign(fast = close.ewm(fast_ma).mean())\n",
    "            .assign(slow = close.ewm(slow_ma).mean()))\n"
   ]
  },
  {
   "cell_type": "code",
   "execution_count": 30,
   "metadata": {},
   "outputs": [
    {
     "data": {
      "text/html": [
       "<div>\n",
       "<style scoped>\n",
       "    .dataframe tbody tr th:only-of-type {\n",
       "        vertical-align: middle;\n",
       "    }\n",
       "\n",
       "    .dataframe tbody tr th {\n",
       "        vertical-align: top;\n",
       "    }\n",
       "\n",
       "    .dataframe thead th {\n",
       "        text-align: right;\n",
       "    }\n",
       "</style>\n",
       "<table border=\"1\" class=\"dataframe\">\n",
       "  <thead>\n",
       "    <tr style=\"text-align: right;\">\n",
       "      <th></th>\n",
       "      <th>price</th>\n",
       "      <th>fast</th>\n",
       "      <th>slow</th>\n",
       "    </tr>\n",
       "    <tr>\n",
       "      <th>dates</th>\n",
       "      <th></th>\n",
       "      <th></th>\n",
       "      <th></th>\n",
       "    </tr>\n",
       "  </thead>\n",
       "  <tbody>\n",
       "    <tr>\n",
       "      <th>2009-09-28 09:53:49</th>\n",
       "      <td>51.138000</td>\n",
       "      <td>51.138000</td>\n",
       "      <td>51.138000</td>\n",
       "    </tr>\n",
       "    <tr>\n",
       "      <th>2009-09-28 10:06:04</th>\n",
       "      <td>51.190000</td>\n",
       "      <td>51.166364</td>\n",
       "      <td>51.164963</td>\n",
       "    </tr>\n",
       "    <tr>\n",
       "      <th>2009-09-28 10:19:50</th>\n",
       "      <td>51.210000</td>\n",
       "      <td>51.183626</td>\n",
       "      <td>51.181101</td>\n",
       "    </tr>\n",
       "    <tr>\n",
       "      <th>2009-09-28 10:32:01</th>\n",
       "      <td>51.379725</td>\n",
       "      <td>51.246752</td>\n",
       "      <td>51.236405</td>\n",
       "    </tr>\n",
       "    <tr>\n",
       "      <th>2009-09-28 10:53:46</th>\n",
       "      <td>51.330000</td>\n",
       "      <td>51.269949</td>\n",
       "      <td>51.257996</td>\n",
       "    </tr>\n",
       "  </tbody>\n",
       "</table>\n",
       "</div>"
      ],
      "text/plain": [
       "                         price       fast       slow\n",
       "dates                                               \n",
       "2009-09-28 09:53:49  51.138000  51.138000  51.138000\n",
       "2009-09-28 10:06:04  51.190000  51.166364  51.164963\n",
       "2009-09-28 10:19:50  51.210000  51.183626  51.181101\n",
       "2009-09-28 10:32:01  51.379725  51.246752  51.236405\n",
       "2009-09-28 10:53:46  51.330000  51.269949  51.257996"
      ]
     },
     "execution_count": 30,
     "metadata": {},
     "output_type": "execute_result"
    }
   ],
   "source": [
    "price_df.head()"
   ]
  },
  {
   "cell_type": "code",
   "execution_count": 31,
   "metadata": {},
   "outputs": [],
   "source": [
    "abc = pd.Series(index=close.index)"
   ]
  },
  {
   "cell_type": "code",
   "execution_count": 32,
   "metadata": {},
   "outputs": [],
   "source": [
    "# Con las series fast y slow se genera la serie \"side\".\n",
    "\n",
    "def ma_cross(fast, slow):\n",
    "    #ma_cross = pd.Series(index=fast.index)\n",
    "    \n",
    "    up_cross = pd.Series(((fast.shift(1) < slow.shift(1)) & (fast > slow))*1,index=fast.index)\n",
    "    down_cross = pd.Series(((fast.shift(1) > slow.shift(1)) & (fast < slow))*-1, index = fast.index)\n",
    "    \n",
    "    ma_cross = up_cross | down_cross\n",
    "    #ma_cross = pd.concat([ma_cross[ma_cross == 1], ma_cross[ma_cross == -1]]).sort_index()\n",
    "    \n",
    "    \n",
    "    return ma_cross\n",
    "        "
   ]
  },
  {
   "cell_type": "code",
   "execution_count": 33,
   "metadata": {},
   "outputs": [],
   "source": [
    "side = ma_cross(price_df.fast, price_df.slow)"
   ]
  },
  {
   "cell_type": "code",
   "execution_count": 34,
   "metadata": {},
   "outputs": [
    {
     "data": {
      "text/plain": [
       "(30860,)"
      ]
     },
     "execution_count": 34,
     "metadata": {},
     "output_type": "execute_result"
    }
   ],
   "source": [
    "side.shape"
   ]
  },
  {
   "cell_type": "code",
   "execution_count": 35,
   "metadata": {},
   "outputs": [],
   "source": [
    "side = pd.concat([side[side == 1], side[side == -1]]).sort_index()"
   ]
  },
  {
   "cell_type": "code",
   "execution_count": 36,
   "metadata": {},
   "outputs": [
    {
     "data": {
      "text/plain": [
       "(1088,)"
      ]
     },
     "execution_count": 36,
     "metadata": {},
     "output_type": "execute_result"
    }
   ],
   "source": [
    "side.shape"
   ]
  },
  {
   "cell_type": "code",
   "execution_count": 37,
   "metadata": {},
   "outputs": [
    {
     "data": {
      "text/plain": [
       "dates\n",
       "2009-09-30 10:03:53   -1\n",
       "2009-10-05 14:55:48    1\n",
       "2009-10-20 14:04:34   -1\n",
       "2009-10-21 10:57:04    1\n",
       "2009-10-21 15:32:09   -1\n",
       "dtype: int32"
      ]
     },
     "execution_count": 37,
     "metadata": {},
     "output_type": "execute_result"
    }
   ],
   "source": [
    "side.head()"
   ]
  },
  {
   "cell_type": "code",
   "execution_count": 38,
   "metadata": {},
   "outputs": [
    {
     "data": {
      "text/plain": [
       "0.00768766790602776"
      ]
     },
     "execution_count": 38,
     "metadata": {},
     "output_type": "execute_result"
    }
   ],
   "source": [
    "dailyVol.mean()"
   ]
  },
  {
   "cell_type": "code",
   "execution_count": 39,
   "metadata": {},
   "outputs": [
    {
     "name": "stderr",
     "output_type": "stream",
     "text": [
      "C:\\Users\\Jorge\\Anaconda3\\lib\\site-packages\\ipykernel_launcher.py:32: FutureWarning: \n",
      "Passing list-likes to .loc or [] with any missing label will raise\n",
      "KeyError in the future, you can use .reindex() as an alternative.\n",
      "\n",
      "See the documentation here:\n",
      "https://pandas.pydata.org/pandas-docs/stable/indexing.html#deprecate-loc-reindex-listlike\n",
      "C:\\Users\\Jorge\\Anaconda3\\lib\\site-packages\\ipykernel_launcher.py:43: FutureWarning: \n",
      "Passing list-likes to .loc or [] with any missing label will raise\n",
      "KeyError in the future, you can use .reindex() as an alternative.\n",
      "\n",
      "See the documentation here:\n",
      "https://pandas.pydata.org/pandas-docs/stable/indexing.html#deprecate-loc-reindex-listlike\n"
     ]
    }
   ],
   "source": [
    "# 6) Implementación de la triple barrera:\n",
    "ptSl = [1,1]\n",
    "trgt = dailyVol\n",
    "minRet = dailyVol.mean()\n",
    "\n",
    "events = getEvents2(close, tEvents, ptSl, trgt, minRet, t1=t1, side=side)"
   ]
  },
  {
   "cell_type": "code",
   "execution_count": 40,
   "metadata": {},
   "outputs": [
    {
     "data": {
      "text/plain": [
       "(11165, 3)"
      ]
     },
     "execution_count": 40,
     "metadata": {},
     "output_type": "execute_result"
    }
   ],
   "source": [
    "events.shape"
   ]
  },
  {
   "cell_type": "code",
   "execution_count": 41,
   "metadata": {},
   "outputs": [
    {
     "data": {
      "text/html": [
       "<div>\n",
       "<style scoped>\n",
       "    .dataframe tbody tr th:only-of-type {\n",
       "        vertical-align: middle;\n",
       "    }\n",
       "\n",
       "    .dataframe tbody tr th {\n",
       "        vertical-align: top;\n",
       "    }\n",
       "\n",
       "    .dataframe thead th {\n",
       "        text-align: right;\n",
       "    }\n",
       "</style>\n",
       "<table border=\"1\" class=\"dataframe\">\n",
       "  <thead>\n",
       "    <tr style=\"text-align: right;\">\n",
       "      <th></th>\n",
       "      <th>side</th>\n",
       "      <th>t1</th>\n",
       "      <th>trgt</th>\n",
       "    </tr>\n",
       "  </thead>\n",
       "  <tbody>\n",
       "    <tr>\n",
       "      <th>2009-10-01 13:33:25</th>\n",
       "      <td>NaN</td>\n",
       "      <td>2009-10-02 14:06:48</td>\n",
       "      <td>0.007945</td>\n",
       "    </tr>\n",
       "    <tr>\n",
       "      <th>2009-10-01 14:13:35</th>\n",
       "      <td>NaN</td>\n",
       "      <td>2009-10-02 14:58:19</td>\n",
       "      <td>0.008417</td>\n",
       "    </tr>\n",
       "    <tr>\n",
       "      <th>2009-10-01 14:52:25</th>\n",
       "      <td>NaN</td>\n",
       "      <td>2009-10-02 14:58:19</td>\n",
       "      <td>0.008722</td>\n",
       "    </tr>\n",
       "    <tr>\n",
       "      <th>2009-10-01 15:14:07</th>\n",
       "      <td>NaN</td>\n",
       "      <td>2009-10-02 15:20:42</td>\n",
       "      <td>0.008879</td>\n",
       "    </tr>\n",
       "    <tr>\n",
       "      <th>2009-10-01 15:30:21</th>\n",
       "      <td>NaN</td>\n",
       "      <td>2009-10-02 15:54:20</td>\n",
       "      <td>0.009027</td>\n",
       "    </tr>\n",
       "  </tbody>\n",
       "</table>\n",
       "</div>"
      ],
      "text/plain": [
       "                     side                  t1      trgt\n",
       "2009-10-01 13:33:25   NaN 2009-10-02 14:06:48  0.007945\n",
       "2009-10-01 14:13:35   NaN 2009-10-02 14:58:19  0.008417\n",
       "2009-10-01 14:52:25   NaN 2009-10-02 14:58:19  0.008722\n",
       "2009-10-01 15:14:07   NaN 2009-10-02 15:20:42  0.008879\n",
       "2009-10-01 15:30:21   NaN 2009-10-02 15:54:20  0.009027"
      ]
     },
     "execution_count": 41,
     "metadata": {},
     "output_type": "execute_result"
    }
   ],
   "source": [
    "events.head()"
   ]
  },
  {
   "cell_type": "code",
   "execution_count": 42,
   "metadata": {},
   "outputs": [
    {
     "name": "stderr",
     "output_type": "stream",
     "text": [
      "C:\\Users\\Jorge\\Anaconda3\\lib\\site-packages\\ipykernel_launcher.py:25: RuntimeWarning: invalid value encountered in sign\n"
     ]
    }
   ],
   "source": [
    "# 7) Generación de la serie Bins:\n",
    "\n",
    "ma_bins = getBins(events, close).dropna()"
   ]
  },
  {
   "cell_type": "code",
   "execution_count": 43,
   "metadata": {},
   "outputs": [
    {
     "data": {
      "text/html": [
       "<div>\n",
       "<style scoped>\n",
       "    .dataframe tbody tr th:only-of-type {\n",
       "        vertical-align: middle;\n",
       "    }\n",
       "\n",
       "    .dataframe tbody tr th {\n",
       "        vertical-align: top;\n",
       "    }\n",
       "\n",
       "    .dataframe thead th {\n",
       "        text-align: right;\n",
       "    }\n",
       "</style>\n",
       "<table border=\"1\" class=\"dataframe\">\n",
       "  <thead>\n",
       "    <tr style=\"text-align: right;\">\n",
       "      <th></th>\n",
       "      <th>ret</th>\n",
       "      <th>bin</th>\n",
       "    </tr>\n",
       "  </thead>\n",
       "  <tbody>\n",
       "    <tr>\n",
       "      <th>2009-10-05 14:55:48</th>\n",
       "      <td>0.015732</td>\n",
       "      <td>1.0</td>\n",
       "    </tr>\n",
       "    <tr>\n",
       "      <th>2009-10-20 14:04:34</th>\n",
       "      <td>-0.005601</td>\n",
       "      <td>0.0</td>\n",
       "    </tr>\n",
       "    <tr>\n",
       "      <th>2009-10-21 10:57:04</th>\n",
       "      <td>-0.012196</td>\n",
       "      <td>0.0</td>\n",
       "    </tr>\n",
       "    <tr>\n",
       "      <th>2009-10-21 15:32:09</th>\n",
       "      <td>0.009577</td>\n",
       "      <td>1.0</td>\n",
       "    </tr>\n",
       "    <tr>\n",
       "      <th>2009-10-29 15:30:16</th>\n",
       "      <td>-0.016903</td>\n",
       "      <td>0.0</td>\n",
       "    </tr>\n",
       "  </tbody>\n",
       "</table>\n",
       "</div>"
      ],
      "text/plain": [
       "                          ret  bin\n",
       "2009-10-05 14:55:48  0.015732  1.0\n",
       "2009-10-20 14:04:34 -0.005601  0.0\n",
       "2009-10-21 10:57:04 -0.012196  0.0\n",
       "2009-10-21 15:32:09  0.009577  1.0\n",
       "2009-10-29 15:30:16 -0.016903  0.0"
      ]
     },
     "execution_count": 43,
     "metadata": {},
     "output_type": "execute_result"
    }
   ],
   "source": [
    "ma_bins.head()"
   ]
  },
  {
   "cell_type": "code",
   "execution_count": 44,
   "metadata": {},
   "outputs": [
    {
     "data": {
      "text/plain": [
       "(332, 2)"
      ]
     },
     "execution_count": 44,
     "metadata": {},
     "output_type": "execute_result"
    }
   ],
   "source": [
    "ma_bins.shape"
   ]
  },
  {
   "cell_type": "code",
   "execution_count": 45,
   "metadata": {},
   "outputs": [],
   "source": [
    "features  = (pd.DataFrame()\n",
    "          .assign(ma_side = side)\n",
    "          .assign(volatilidad = dailyVol)\n",
    "          .assign(ma_bins = ma_bins.bin)).dropna()"
   ]
  },
  {
   "cell_type": "code",
   "execution_count": 46,
   "metadata": {},
   "outputs": [
    {
     "data": {
      "text/plain": [
       "(332, 3)"
      ]
     },
     "execution_count": 46,
     "metadata": {},
     "output_type": "execute_result"
    }
   ],
   "source": [
    "features.shape"
   ]
  },
  {
   "cell_type": "code",
   "execution_count": 47,
   "metadata": {},
   "outputs": [],
   "source": [
    "# Hasta ahora tenemos la matriz Y que está constituida por ma_bins y también tenemos la matrix X parcialmente constituida\n",
    "# por la volatilidad diaria y por los cruces de promedios móviles; aún falta incluir la auto-correlación de la serie."
   ]
  },
  {
   "cell_type": "code",
   "execution_count": 48,
   "metadata": {},
   "outputs": [],
   "source": [
    "ret = returns(close)"
   ]
  },
  {
   "cell_type": "code",
   "execution_count": 49,
   "metadata": {},
   "outputs": [],
   "source": [
    "window = 50\n",
    "ret_corr = df_rolling_autocorr(ret, window, lag=1)"
   ]
  },
  {
   "cell_type": "code",
   "execution_count": 50,
   "metadata": {},
   "outputs": [],
   "source": [
    "features['autocorrelation'] = ret_corr"
   ]
  },
  {
   "cell_type": "code",
   "execution_count": 51,
   "metadata": {},
   "outputs": [
    {
     "data": {
      "text/html": [
       "<div>\n",
       "<style scoped>\n",
       "    .dataframe tbody tr th:only-of-type {\n",
       "        vertical-align: middle;\n",
       "    }\n",
       "\n",
       "    .dataframe tbody tr th {\n",
       "        vertical-align: top;\n",
       "    }\n",
       "\n",
       "    .dataframe thead th {\n",
       "        text-align: right;\n",
       "    }\n",
       "</style>\n",
       "<table border=\"1\" class=\"dataframe\">\n",
       "  <thead>\n",
       "    <tr style=\"text-align: right;\">\n",
       "      <th></th>\n",
       "      <th>ma_side</th>\n",
       "      <th>volatilidad</th>\n",
       "      <th>ma_bins</th>\n",
       "      <th>autocorrelation</th>\n",
       "    </tr>\n",
       "    <tr>\n",
       "      <th>dates</th>\n",
       "      <th></th>\n",
       "      <th></th>\n",
       "      <th></th>\n",
       "      <th></th>\n",
       "    </tr>\n",
       "  </thead>\n",
       "  <tbody>\n",
       "    <tr>\n",
       "      <th>2009-10-05 14:55:48</th>\n",
       "      <td>1</td>\n",
       "      <td>0.013612</td>\n",
       "      <td>1.0</td>\n",
       "      <td>-0.144251</td>\n",
       "    </tr>\n",
       "    <tr>\n",
       "      <th>2009-10-20 14:04:34</th>\n",
       "      <td>-1</td>\n",
       "      <td>0.009998</td>\n",
       "      <td>0.0</td>\n",
       "      <td>-0.044208</td>\n",
       "    </tr>\n",
       "    <tr>\n",
       "      <th>2009-10-21 10:57:04</th>\n",
       "      <td>1</td>\n",
       "      <td>0.009836</td>\n",
       "      <td>0.0</td>\n",
       "      <td>-0.069374</td>\n",
       "    </tr>\n",
       "    <tr>\n",
       "      <th>2009-10-21 15:32:09</th>\n",
       "      <td>-1</td>\n",
       "      <td>0.009396</td>\n",
       "      <td>1.0</td>\n",
       "      <td>-0.008022</td>\n",
       "    </tr>\n",
       "    <tr>\n",
       "      <th>2009-10-29 15:30:16</th>\n",
       "      <td>1</td>\n",
       "      <td>0.011553</td>\n",
       "      <td>0.0</td>\n",
       "      <td>0.006693</td>\n",
       "    </tr>\n",
       "  </tbody>\n",
       "</table>\n",
       "</div>"
      ],
      "text/plain": [
       "                     ma_side  volatilidad  ma_bins  autocorrelation\n",
       "dates                                                              \n",
       "2009-10-05 14:55:48        1     0.013612      1.0        -0.144251\n",
       "2009-10-20 14:04:34       -1     0.009998      0.0        -0.044208\n",
       "2009-10-21 10:57:04        1     0.009836      0.0        -0.069374\n",
       "2009-10-21 15:32:09       -1     0.009396      1.0        -0.008022\n",
       "2009-10-29 15:30:16        1     0.011553      0.0         0.006693"
      ]
     },
     "execution_count": 51,
     "metadata": {},
     "output_type": "execute_result"
    }
   ],
   "source": [
    "features.head()"
   ]
  },
  {
   "cell_type": "code",
   "execution_count": 52,
   "metadata": {},
   "outputs": [],
   "source": [
    "# 8) Definición de la matriz X y Y:"
   ]
  },
  {
   "cell_type": "code",
   "execution_count": 53,
   "metadata": {},
   "outputs": [],
   "source": [
    "X = features[['ma_side', 'volatilidad', 'autocorrelation']]            # DataFrame format\n",
    "#X = features[['ma_side', 'volatilidad', 'autocorrelation']].vaX = features[['ma_side', 'volatilidad', 'autocorrelation']]   lues    # array format"
   ]
  },
  {
   "cell_type": "code",
   "execution_count": 54,
   "metadata": {},
   "outputs": [],
   "source": [
    "y = features[['ma_bins']]           # DataFrame format\n",
    "#y = features['ma_bins'].values     # array format"
   ]
  },
  {
   "cell_type": "markdown",
   "metadata": {},
   "source": [
    " "
   ]
  },
  {
   "cell_type": "markdown",
   "metadata": {},
   "source": [
    " "
   ]
  },
  {
   "cell_type": "markdown",
   "metadata": {},
   "source": [
    "**7.2 a) Derive the performance from a 10-fold CV of an RF classifier on (X,y), with-out shuffling**"
   ]
  },
  {
   "cell_type": "code",
   "execution_count": 55,
   "metadata": {},
   "outputs": [
    {
     "data": {
      "text/plain": [
       "(332,)"
      ]
     },
     "execution_count": 55,
     "metadata": {},
     "output_type": "execute_result"
    }
   ],
   "source": [
    "events['t1'][X.index].shape"
   ]
  },
  {
   "cell_type": "code",
   "execution_count": 56,
   "metadata": {},
   "outputs": [],
   "source": [
    "# inputs de la función cvScore():\n",
    "\n",
    "events_t1 = events.loc[X.index, 't1']\n",
    "sample_weights = pd.DataFrame({'weights':np.ones(len(y))/len(y)})"
   ]
  },
  {
   "cell_type": "code",
   "execution_count": 57,
   "metadata": {},
   "outputs": [
    {
     "data": {
      "text/plain": [
       "pandas.core.series.Series"
      ]
     },
     "execution_count": 57,
     "metadata": {},
     "output_type": "execute_result"
    }
   ],
   "source": [
    "type(events_t1)"
   ]
  },
  {
   "cell_type": "code",
   "execution_count": 58,
   "metadata": {},
   "outputs": [],
   "source": [
    "estimators = 1000\n",
    "clasificador_rf = RandomForestClassifier(n_estimators = estimators, max_depth = 2, criterion = 'entropy')"
   ]
  },
  {
   "cell_type": "code",
   "execution_count": 59,
   "metadata": {},
   "outputs": [
    {
     "data": {
      "text/plain": [
       "array([-0.71558536, -0.71977402, -0.70993538, -0.66782194, -0.66703432,\n",
       "       -0.68936296, -0.68255396, -0.71548605, -0.71262682, -0.66352822])"
      ]
     },
     "execution_count": 59,
     "metadata": {},
     "output_type": "execute_result"
    }
   ],
   "source": [
    "score_rf_NoShuffled = cvScore2_mc(clasificador_rf, X, y, sample_weights, scoring='neg_log_loss',\\\n",
    "                                t1 = events_t1, cv=10, cvGen=None, pctEmbargo=None)\n",
    "score_rf_NoShuffled"
   ]
  },
  {
   "cell_type": "markdown",
   "metadata": {},
   "source": [
    " "
   ]
  },
  {
   "cell_type": "markdown",
   "metadata": {},
   "source": [
    "**b) Derive the performance from a 10-fold CV of an RF on (X,y), with shuffling.**"
   ]
  },
  {
   "cell_type": "code",
   "execution_count": 60,
   "metadata": {},
   "outputs": [
    {
     "data": {
      "text/plain": [
       "array([-0.68584498, -0.68127397, -0.66756365, -0.72700833, -0.7125366 ,\n",
       "       -0.71654737, -0.70479071, -0.70626808, -0.69198651, -0.68895541])"
      ]
     },
     "execution_count": 60,
     "metadata": {},
     "output_type": "execute_result"
    }
   ],
   "source": [
    "score_shuffled = cvScore_shuffled(clasificador_rf,X,y,sample_weights,scoring='neg_log_loss',t1=events_t1,\n",
    "                                  cv=10,cvGen=None,pctEmbargo=None)\n",
    "score_shuffled"
   ]
  },
  {
   "cell_type": "markdown",
   "metadata": {},
   "source": [
    " "
   ]
  },
  {
   "cell_type": "markdown",
   "metadata": {},
   "source": [
    "**c) Why are both results so different?**"
   ]
  },
  {
   "cell_type": "markdown",
   "metadata": {},
   "source": [
    "Actually, the results are not so different."
   ]
  },
  {
   "cell_type": "markdown",
   "metadata": {},
   "source": [
    " "
   ]
  },
  {
   "cell_type": "markdown",
   "metadata": {},
   "source": [
    "**d) How does shuffling leak information?**"
   ]
  },
  {
   "cell_type": "markdown",
   "metadata": {},
   "source": [
    "Source: Advances in Financial Machine Learning - 7.3 WHY K-FOLD FAILS IN FINANCE\n",
    "\n",
    "Leakage takes place when the trainning set contains information that also appears in the testing set. Consider a serially correlated feature $X$ that is associated with labels $Y$ that are formed on overlapping data; by placing t and t+1 in different sets, information is leaked. This happens when a serially autocorrelated data set is shuffled."
   ]
  },
  {
   "cell_type": "markdown",
   "metadata": {},
   "source": [
    " "
   ]
  },
  {
   "cell_type": "markdown",
   "metadata": {},
   "source": [
    "# ----------------------------------------------------------------------------------------------------"
   ]
  },
  {
   "cell_type": "markdown",
   "metadata": {},
   "source": [
    "#  "
   ]
  },
  {
   "cell_type": "markdown",
   "metadata": {},
   "source": [
    "### Solution of the exercise 7.2 with the dollar_bar series fractionally differentiated:"
   ]
  },
  {
   "cell_type": "code",
   "execution_count": 61,
   "metadata": {},
   "outputs": [
    {
     "data": {
      "text/html": [
       "<div>\n",
       "<style scoped>\n",
       "    .dataframe tbody tr th:only-of-type {\n",
       "        vertical-align: middle;\n",
       "    }\n",
       "\n",
       "    .dataframe tbody tr th {\n",
       "        vertical-align: top;\n",
       "    }\n",
       "\n",
       "    .dataframe thead th {\n",
       "        text-align: right;\n",
       "    }\n",
       "</style>\n",
       "<table border=\"1\" class=\"dataframe\">\n",
       "  <thead>\n",
       "    <tr style=\"text-align: right;\">\n",
       "      <th></th>\n",
       "      <th>price</th>\n",
       "    </tr>\n",
       "    <tr>\n",
       "      <th>dates</th>\n",
       "      <th></th>\n",
       "    </tr>\n",
       "  </thead>\n",
       "  <tbody>\n",
       "    <tr>\n",
       "      <th>2009-09-28 09:53:49</th>\n",
       "      <td>3.934528</td>\n",
       "    </tr>\n",
       "    <tr>\n",
       "      <th>2009-09-28 10:06:04</th>\n",
       "      <td>7.870072</td>\n",
       "    </tr>\n",
       "    <tr>\n",
       "      <th>2009-09-28 10:19:50</th>\n",
       "      <td>11.806007</td>\n",
       "    </tr>\n",
       "    <tr>\n",
       "      <th>2009-09-28 10:32:01</th>\n",
       "      <td>15.745251</td>\n",
       "    </tr>\n",
       "    <tr>\n",
       "      <th>2009-09-28 10:53:46</th>\n",
       "      <td>19.683526</td>\n",
       "    </tr>\n",
       "  </tbody>\n",
       "</table>\n",
       "</div>"
      ],
      "text/plain": [
       "                         price\n",
       "dates                         \n",
       "2009-09-28 09:53:49   3.934528\n",
       "2009-09-28 10:06:04   7.870072\n",
       "2009-09-28 10:19:50  11.806007\n",
       "2009-09-28 10:32:01  15.745251\n",
       "2009-09-28 10:53:46  19.683526"
      ]
     },
     "execution_count": 61,
     "metadata": {},
     "output_type": "execute_result"
    }
   ],
   "source": [
    "# Following the steps of the exercise 5.5:\n",
    "\n",
    "# The first step is to generate a serie with the cumulutative sum of the close logarithms\n",
    "# This series must have DataFrame format in order to be accepted as input of the function fracDiff_FF() as is done next. \n",
    "\n",
    "close_log_df = pd.DataFrame(data=np.log(close).cumsum(), columns=['price'])\n",
    "close_log_df.head()"
   ]
  },
  {
   "cell_type": "code",
   "execution_count": 62,
   "metadata": {},
   "outputs": [
    {
     "data": {
      "text/plain": [
       "<matplotlib.axes._subplots.AxesSubplot at 0x20ef3a819b0>"
      ]
     },
     "execution_count": 62,
     "metadata": {},
     "output_type": "execute_result"
    },
    {
     "data": {
      "image/png": "[encoded data removed]",
      "text/plain": [
       "<Figure size 432x288 with 2 Axes>"
      ]
     },
     "metadata": {
      "needs_background": "light"
     },
     "output_type": "display_data"
    }
   ],
   "source": [
    "plt.subplot(1,2,1)\n",
    "close.plot()\n",
    "\n",
    "plt.subplot(1,2,2)\n",
    "close_log_df['price'].plot()"
   ]
  },
  {
   "cell_type": "code",
   "execution_count": 63,
   "metadata": {},
   "outputs": [],
   "source": [
    "# For the range of possible differentiation degree d∈ [0, 2] determine for what minimum d the new series is stationary.\n",
    "\n",
    "d_vector = np.round(np.linspace(0,2,11),1)\n",
    "thres = 1E-5\n",
    "\n",
    "adf_pvalues = {}\n",
    "close_FFD = {}\n",
    "p_values_95 = {}\n",
    "\n",
    "for d in d_vector:\n",
    "    serie_d = pd.Series()\n",
    "    serie_d = fracDiff_FFD(close_log_df, d, thres)      # The input \"close_log_df\" must be a DataFrame\n",
    "    adf_test = adfuller(serie_d['price'], maxlag=1, regression='c', autolag=None)\n",
    "    adf_pvalues[d] = adf_test[0]\n",
    "    p_values_95[d] = adf_test[4]['5%']\n",
    "    close_FFD[d] = serie_d"
   ]
  },
  {
   "cell_type": "code",
   "execution_count": 64,
   "metadata": {},
   "outputs": [
    {
     "data": {
      "text/html": [
       "<div>\n",
       "<style scoped>\n",
       "    .dataframe tbody tr th:only-of-type {\n",
       "        vertical-align: middle;\n",
       "    }\n",
       "\n",
       "    .dataframe tbody tr th {\n",
       "        vertical-align: top;\n",
       "    }\n",
       "\n",
       "    .dataframe thead th {\n",
       "        text-align: right;\n",
       "    }\n",
       "</style>\n",
       "<table border=\"1\" class=\"dataframe\">\n",
       "  <thead>\n",
       "    <tr style=\"text-align: right;\">\n",
       "      <th></th>\n",
       "      <th>0.0</th>\n",
       "      <th>0.2</th>\n",
       "      <th>0.4</th>\n",
       "      <th>0.6</th>\n",
       "      <th>0.8</th>\n",
       "      <th>1.0</th>\n",
       "      <th>1.2</th>\n",
       "      <th>1.4</th>\n",
       "      <th>1.6</th>\n",
       "      <th>1.8</th>\n",
       "      <th>2.0</th>\n",
       "    </tr>\n",
       "  </thead>\n",
       "  <tbody>\n",
       "    <tr>\n",
       "      <th>p_values</th>\n",
       "      <td>2.965858</td>\n",
       "      <td>9.793015</td>\n",
       "      <td>30.679542</td>\n",
       "      <td>54.066429</td>\n",
       "      <td>30.397648</td>\n",
       "      <td>-1.555201</td>\n",
       "      <td>11.918647</td>\n",
       "      <td>9.277435</td>\n",
       "      <td>6.125229</td>\n",
       "      <td>3.483252</td>\n",
       "      <td>-139.450056</td>\n",
       "    </tr>\n",
       "    <tr>\n",
       "      <th>p_95%</th>\n",
       "      <td>-2.861634</td>\n",
       "      <td>-2.861645</td>\n",
       "      <td>-2.861638</td>\n",
       "      <td>-2.861635</td>\n",
       "      <td>-2.861634</td>\n",
       "      <td>-2.861634</td>\n",
       "      <td>-2.861634</td>\n",
       "      <td>-2.861634</td>\n",
       "      <td>-2.861634</td>\n",
       "      <td>-2.861634</td>\n",
       "      <td>-2.861634</td>\n",
       "    </tr>\n",
       "  </tbody>\n",
       "</table>\n",
       "</div>"
      ],
      "text/plain": [
       "               0.0       0.2        0.4        0.6        0.8       1.0  \\\n",
       "p_values  2.965858  9.793015  30.679542  54.066429  30.397648 -1.555201   \n",
       "p_95%    -2.861634 -2.861645  -2.861638  -2.861635  -2.861634 -2.861634   \n",
       "\n",
       "                1.2       1.4       1.6       1.8         2.0  \n",
       "p_values  11.918647  9.277435  6.125229  3.483252 -139.450056  \n",
       "p_95%     -2.861634 -2.861634 -2.861634 -2.861634   -2.861634  "
      ]
     },
     "execution_count": 64,
     "metadata": {},
     "output_type": "execute_result"
    }
   ],
   "source": [
    "adf_df = pd.DataFrame(data = adf_pvalues, index = ['p_values'])\n",
    "adf_pvalues = pd.DataFrame(data = p_values_95, index = ['p_95%'])\n",
    "\n",
    "adf_results = pd.concat([adf_df, adf_pvalues], axis=0, join='outer')\n",
    "adf_results"
   ]
  },
  {
   "cell_type": "code",
   "execution_count": 65,
   "metadata": {},
   "outputs": [],
   "source": [
    "# The symmetric CUMSUM filter application - function getTEvents(gRaw, h)\n",
    "# The gRaw serie is the cumulative sum of the close log fracDiff stationary series and h is the threshold to be overcome, \n",
    "# it is twice the standard deviation of the series. \n",
    "\n",
    "h_log = getDailyVol(close_log_df, span0=100)\n",
    "h_log = h_log.mean()[0]\n",
    "\n",
    "tEvents_log = getTEvents(close_log_df['price'], h_log)\n"
   ]
  },
  {
   "cell_type": "code",
   "execution_count": 66,
   "metadata": {},
   "outputs": [],
   "source": [
    "#  \n",
    "\n",
    "h = getDailyVol(close, span0=100).mean()\n",
    "\n",
    "tEvents = getTEvents(close, h)"
   ]
  },
  {
   "cell_type": "code",
   "execution_count": 67,
   "metadata": {},
   "outputs": [
    {
     "name": "stdout",
     "output_type": "stream",
     "text": [
      "(30859,)\n",
      "(28993,)\n"
     ]
    }
   ],
   "source": [
    "print(tEvents_log.shape)\n",
    "print(tEvents.shape)"
   ]
  },
  {
   "cell_type": "code",
   "execution_count": 68,
   "metadata": {},
   "outputs": [],
   "source": [
    "tEvents_log2, up, down = getTEvents2(close_log_df['price'], h_log)"
   ]
  },
  {
   "cell_type": "code",
   "execution_count": 69,
   "metadata": {},
   "outputs": [
    {
     "name": "stdout",
     "output_type": "stream",
     "text": [
      "t_Events_log2.shape = (30859,)\n",
      "up length = 30859\n",
      "down length = 0\n"
     ]
    }
   ],
   "source": [
    "print(f't_Events_log2.shape = {tEvents_log2.shape}')\n",
    "print(f'up length = {len(up)}')\n",
    "print(f'down length = {len(down)}')"
   ]
  },
  {
   "cell_type": "code",
   "execution_count": 70,
   "metadata": {},
   "outputs": [],
   "source": [
    "# Generating fractionally differentiated series from close"
   ]
  },
  {
   "cell_type": "code",
   "execution_count": 71,
   "metadata": {},
   "outputs": [],
   "source": [
    "close_df = pd.DataFrame(data=close, columns=['price'])"
   ]
  },
  {
   "cell_type": "code",
   "execution_count": 72,
   "metadata": {},
   "outputs": [
    {
     "data": {
      "text/html": [
       "<div>\n",
       "<style scoped>\n",
       "    .dataframe tbody tr th:only-of-type {\n",
       "        vertical-align: middle;\n",
       "    }\n",
       "\n",
       "    .dataframe tbody tr th {\n",
       "        vertical-align: top;\n",
       "    }\n",
       "\n",
       "    .dataframe thead th {\n",
       "        text-align: right;\n",
       "    }\n",
       "</style>\n",
       "<table border=\"1\" class=\"dataframe\">\n",
       "  <thead>\n",
       "    <tr style=\"text-align: right;\">\n",
       "      <th></th>\n",
       "      <th>price</th>\n",
       "    </tr>\n",
       "    <tr>\n",
       "      <th>dates</th>\n",
       "      <th></th>\n",
       "    </tr>\n",
       "  </thead>\n",
       "  <tbody>\n",
       "    <tr>\n",
       "      <th>2009-09-28 09:53:49</th>\n",
       "      <td>51.138000</td>\n",
       "    </tr>\n",
       "    <tr>\n",
       "      <th>2009-09-28 10:06:04</th>\n",
       "      <td>51.190000</td>\n",
       "    </tr>\n",
       "    <tr>\n",
       "      <th>2009-09-28 10:19:50</th>\n",
       "      <td>51.210000</td>\n",
       "    </tr>\n",
       "    <tr>\n",
       "      <th>2009-09-28 10:32:01</th>\n",
       "      <td>51.379725</td>\n",
       "    </tr>\n",
       "    <tr>\n",
       "      <th>2009-09-28 10:53:46</th>\n",
       "      <td>51.330000</td>\n",
       "    </tr>\n",
       "  </tbody>\n",
       "</table>\n",
       "</div>"
      ],
      "text/plain": [
       "                         price\n",
       "dates                         \n",
       "2009-09-28 09:53:49  51.138000\n",
       "2009-09-28 10:06:04  51.190000\n",
       "2009-09-28 10:19:50  51.210000\n",
       "2009-09-28 10:32:01  51.379725\n",
       "2009-09-28 10:53:46  51.330000"
      ]
     },
     "execution_count": 72,
     "metadata": {},
     "output_type": "execute_result"
    }
   ],
   "source": [
    "close_df.head()"
   ]
  },
  {
   "cell_type": "code",
   "execution_count": 73,
   "metadata": {},
   "outputs": [],
   "source": [
    "d_vector = np.round(np.linspace(0,2,11),1)\n",
    "thres = 1E-5\n",
    "\n",
    "adf_pvalues_close = {}\n",
    "close_FFD_close = {}\n",
    "p_values_95_close = {}\n",
    "\n",
    "for d in d_vector:\n",
    "    serie_d_close = pd.Series()\n",
    "    serie_d_close = fracDiff_FFD(close_df, d, thres)      # The input \"close_log_df\" must be a DataFrame\n",
    "    adf_test_close = adfuller(serie_d_close['price'], maxlag=1, regression='c', autolag=None)\n",
    "    adf_pvalues_close[d] = adf_test_close[0]\n",
    "    p_values_95_close[d] = adf_test_close[4]['5%']\n",
    "    close_FFD_close[d] = serie_d_close"
   ]
  },
  {
   "cell_type": "code",
   "execution_count": 74,
   "metadata": {},
   "outputs": [
    {
     "data": {
      "text/html": [
       "<div>\n",
       "<style scoped>\n",
       "    .dataframe tbody tr th:only-of-type {\n",
       "        vertical-align: middle;\n",
       "    }\n",
       "\n",
       "    .dataframe tbody tr th {\n",
       "        vertical-align: top;\n",
       "    }\n",
       "\n",
       "    .dataframe thead th {\n",
       "        text-align: right;\n",
       "    }\n",
       "</style>\n",
       "<table border=\"1\" class=\"dataframe\">\n",
       "  <thead>\n",
       "    <tr style=\"text-align: right;\">\n",
       "      <th></th>\n",
       "      <th>0.0</th>\n",
       "      <th>0.2</th>\n",
       "      <th>0.4</th>\n",
       "      <th>0.6</th>\n",
       "      <th>0.8</th>\n",
       "      <th>1.0</th>\n",
       "      <th>1.2</th>\n",
       "      <th>1.4</th>\n",
       "      <th>1.6</th>\n",
       "      <th>1.8</th>\n",
       "      <th>2.0</th>\n",
       "    </tr>\n",
       "  </thead>\n",
       "  <tbody>\n",
       "    <tr>\n",
       "      <th>p_values</th>\n",
       "      <td>-1.047943</td>\n",
       "      <td>-4.432380</td>\n",
       "      <td>-17.109613</td>\n",
       "      <td>-52.737981</td>\n",
       "      <td>-98.374261</td>\n",
       "      <td>-133.153601</td>\n",
       "      <td>-153.767509</td>\n",
       "      <td>-173.346231</td>\n",
       "      <td>-190.832968</td>\n",
       "      <td>-206.554131</td>\n",
       "      <td>-221.020097</td>\n",
       "    </tr>\n",
       "    <tr>\n",
       "      <th>p_95%</th>\n",
       "      <td>-2.861634</td>\n",
       "      <td>-2.861645</td>\n",
       "      <td>-2.861638</td>\n",
       "      <td>-2.861635</td>\n",
       "      <td>-2.861634</td>\n",
       "      <td>-2.861634</td>\n",
       "      <td>-2.861634</td>\n",
       "      <td>-2.861634</td>\n",
       "      <td>-2.861634</td>\n",
       "      <td>-2.861634</td>\n",
       "      <td>-2.861634</td>\n",
       "    </tr>\n",
       "  </tbody>\n",
       "</table>\n",
       "</div>"
      ],
      "text/plain": [
       "               0.0       0.2        0.4        0.6        0.8         1.0  \\\n",
       "p_values -1.047943 -4.432380 -17.109613 -52.737981 -98.374261 -133.153601   \n",
       "p_95%    -2.861634 -2.861645  -2.861638  -2.861635  -2.861634   -2.861634   \n",
       "\n",
       "                 1.2         1.4         1.6         1.8         2.0  \n",
       "p_values -153.767509 -173.346231 -190.832968 -206.554131 -221.020097  \n",
       "p_95%      -2.861634   -2.861634   -2.861634   -2.861634   -2.861634  "
      ]
     },
     "execution_count": 74,
     "metadata": {},
     "output_type": "execute_result"
    }
   ],
   "source": [
    "adf_df_close = pd.DataFrame(data = adf_pvalues_close, index = ['p_values'])\n",
    "adf_pvalues_close = pd.DataFrame(data = p_values_95_close, index = ['p_95%'])\n",
    "\n",
    "adf_results_close = pd.concat([adf_df_close, adf_pvalues_close], axis=0, join='outer')\n",
    "adf_results_close"
   ]
  },
  {
   "cell_type": "code",
   "execution_count": 75,
   "metadata": {},
   "outputs": [],
   "source": [
    "close_diff02 = close_FFD_close[0.2]\n",
    "close_diff06 = close_FFD_close[0.6]"
   ]
  },
  {
   "cell_type": "code",
   "execution_count": 76,
   "metadata": {},
   "outputs": [
    {
     "data": {
      "text/plain": [
       "<matplotlib.axes._subplots.AxesSubplot at 0x20ea2db0978>"
      ]
     },
     "execution_count": 76,
     "metadata": {},
     "output_type": "execute_result"
    },
    {
     "data": {
      "image/png": "[encoded data removed]",
      "text/plain": [
       "<Figure size 432x288 with 3 Axes>"
      ]
     },
     "metadata": {
      "needs_background": "light"
     },
     "output_type": "display_data"
    }
   ],
   "source": [
    "plt.subplot(1,3,1)\n",
    "close.plot()\n",
    "\n",
    "plt.subplot(1,3,2)\n",
    "close_log_df['price'].plot()\n",
    "\n",
    "plt.subplot(1,3,3)\n",
    "close_diff02['price'].plot()"
   ]
  },
  {
   "cell_type": "code",
   "execution_count": 77,
   "metadata": {},
   "outputs": [
    {
     "data": {
      "text/plain": [
       "dates\n",
       "2018-02-26 15:31:06    115.29\n",
       "2018-02-26 15:40:15    115.41\n",
       "2018-02-26 15:49:42    115.20\n",
       "2018-02-26 15:59:04    115.27\n",
       "2018-02-26 16:16:14    115.30\n",
       "Name: price, dtype: float64"
      ]
     },
     "execution_count": 77,
     "metadata": {},
     "output_type": "execute_result"
    }
   ],
   "source": [
    "close.iloc[-5:]"
   ]
  },
  {
   "cell_type": "code",
   "execution_count": 78,
   "metadata": {},
   "outputs": [
    {
     "data": {
      "text/html": [
       "<div>\n",
       "<style scoped>\n",
       "    .dataframe tbody tr th:only-of-type {\n",
       "        vertical-align: middle;\n",
       "    }\n",
       "\n",
       "    .dataframe tbody tr th {\n",
       "        vertical-align: top;\n",
       "    }\n",
       "\n",
       "    .dataframe thead th {\n",
       "        text-align: right;\n",
       "    }\n",
       "</style>\n",
       "<table border=\"1\" class=\"dataframe\">\n",
       "  <thead>\n",
       "    <tr style=\"text-align: right;\">\n",
       "      <th></th>\n",
       "      <th>price</th>\n",
       "    </tr>\n",
       "  </thead>\n",
       "  <tbody>\n",
       "    <tr>\n",
       "      <th>2018-02-26 15:31:06</th>\n",
       "      <td>20.127724</td>\n",
       "    </tr>\n",
       "    <tr>\n",
       "      <th>2018-02-26 15:40:15</th>\n",
       "      <td>20.240256</td>\n",
       "    </tr>\n",
       "    <tr>\n",
       "      <th>2018-02-26 15:49:42</th>\n",
       "      <td>19.994914</td>\n",
       "    </tr>\n",
       "    <tr>\n",
       "      <th>2018-02-26 15:59:04</th>\n",
       "      <td>20.086267</td>\n",
       "    </tr>\n",
       "    <tr>\n",
       "      <th>2018-02-26 16:16:14</th>\n",
       "      <td>20.102956</td>\n",
       "    </tr>\n",
       "  </tbody>\n",
       "</table>\n",
       "</div>"
      ],
      "text/plain": [
       "                         price\n",
       "2018-02-26 15:31:06  20.127724\n",
       "2018-02-26 15:40:15  20.240256\n",
       "2018-02-26 15:49:42  19.994914\n",
       "2018-02-26 15:59:04  20.086267\n",
       "2018-02-26 16:16:14  20.102956"
      ]
     },
     "execution_count": 78,
     "metadata": {},
     "output_type": "execute_result"
    }
   ],
   "source": [
    "close_diff02.iloc[-5:]"
   ]
  },
  {
   "cell_type": "code",
   "execution_count": 79,
   "metadata": {},
   "outputs": [
    {
     "data": {
      "text/html": [
       "<div>\n",
       "<style scoped>\n",
       "    .dataframe tbody tr th:only-of-type {\n",
       "        vertical-align: middle;\n",
       "    }\n",
       "\n",
       "    .dataframe tbody tr th {\n",
       "        vertical-align: top;\n",
       "    }\n",
       "\n",
       "    .dataframe thead th {\n",
       "        text-align: right;\n",
       "    }\n",
       "</style>\n",
       "<table border=\"1\" class=\"dataframe\">\n",
       "  <thead>\n",
       "    <tr style=\"text-align: right;\">\n",
       "      <th></th>\n",
       "      <th>price</th>\n",
       "    </tr>\n",
       "  </thead>\n",
       "  <tbody>\n",
       "    <tr>\n",
       "      <th>2018-02-26 15:31:06</th>\n",
       "      <td>1.271880</td>\n",
       "    </tr>\n",
       "    <tr>\n",
       "      <th>2018-02-26 15:40:15</th>\n",
       "      <td>1.413352</td>\n",
       "    </tr>\n",
       "    <tr>\n",
       "      <th>2018-02-26 15:49:42</th>\n",
       "      <td>1.127147</td>\n",
       "    </tr>\n",
       "    <tr>\n",
       "      <th>2018-02-26 15:59:04</th>\n",
       "      <td>1.303219</td>\n",
       "    </tr>\n",
       "    <tr>\n",
       "      <th>2018-02-26 16:16:14</th>\n",
       "      <td>1.304422</td>\n",
       "    </tr>\n",
       "  </tbody>\n",
       "</table>\n",
       "</div>"
      ],
      "text/plain": [
       "                        price\n",
       "2018-02-26 15:31:06  1.271880\n",
       "2018-02-26 15:40:15  1.413352\n",
       "2018-02-26 15:49:42  1.127147\n",
       "2018-02-26 15:59:04  1.303219\n",
       "2018-02-26 16:16:14  1.304422"
      ]
     },
     "execution_count": 79,
     "metadata": {},
     "output_type": "execute_result"
    }
   ],
   "source": [
    "close_diff06.iloc[-5:]"
   ]
  },
  {
   "cell_type": "code",
   "execution_count": 80,
   "metadata": {},
   "outputs": [
    {
     "data": {
      "text/plain": [
       "TimedeltaIndex(['0 days', '0 days', '0 days', '0 days', '0 days', '0 days',\n",
       "                '0 days', '0 days', '0 days', '0 days',\n",
       "                ...\n",
       "                '0 days', '0 days', '0 days', '0 days', '0 days', '0 days',\n",
       "                '0 days', '0 days', '0 days', '0 days'],\n",
       "               dtype='timedelta64[ns]', length=27479, freq=None)"
      ]
     },
     "execution_count": 80,
     "metadata": {},
     "output_type": "execute_result"
    }
   ],
   "source": [
    "close.index[-close_diff02.shape[0]:] - close_diff02.index"
   ]
  },
  {
   "cell_type": "code",
   "execution_count": 81,
   "metadata": {},
   "outputs": [
    {
     "name": "stdout",
     "output_type": "stream",
     "text": [
      "close_diff0.0 shape = (30860, 1)\n",
      "close_diff0.2 shape = (27479, 1)\n",
      "close_diff0.4 shape = (29403, 1)\n",
      "close_diff0.6 shape = (30271, 1)\n",
      "close_diff0.8 shape = (30633, 1)\n",
      "close_diff1.0 shape = (30859, 1)\n",
      "close_diff1.2 shape = (30768, 1)\n",
      "close_diff1.4 shape = (30779, 1)\n",
      "close_diff1.6 shape = (30799, 1)\n",
      "close_diff1.8 shape = (30819, 1)\n",
      "close_diff2.0 shape = (30858, 1)\n"
     ]
    }
   ],
   "source": [
    "for d in close_FFD_close.keys():\n",
    "    print(f'close_diff{d} shape = {close_FFD_close[d].shape}')\n"
   ]
  },
  {
   "cell_type": "code",
   "execution_count": 82,
   "metadata": {},
   "outputs": [
    {
     "name": "stdout",
     "output_type": "stream",
     "text": [
      "w0.0.shape = (1, 1)\n",
      "w0.2.shape = (3382, 1)\n",
      "w0.4.shape = (1458, 1)\n",
      "w0.6.shape = (590, 1)\n",
      "w0.8.shape = (228, 1)\n",
      "w1.0.shape = (2, 1)\n",
      "w1.2.shape = (93, 1)\n",
      "w1.4.shape = (82, 1)\n",
      "w1.6.shape = (62, 1)\n",
      "w1.8.shape = (42, 1)\n",
      "w2.0.shape = (3, 1)\n"
     ]
    }
   ],
   "source": [
    "for d in close_FFD_close.keys():\n",
    "    print(f'w{d}.shape = {getWeights_FFD(d, 1E-5).shape}' )"
   ]
  },
  {
   "cell_type": "code",
   "execution_count": 83,
   "metadata": {},
   "outputs": [],
   "source": [
    "# Implementation of the triple barrier method\n",
    "\n",
    "#def getEvents2(close, tEvents, ptSl, trgt, minRet, t1=False, side=None)\n"
   ]
  },
  {
   "cell_type": "code",
   "execution_count": 84,
   "metadata": {},
   "outputs": [],
   "source": [
    "close02 = copy.deepcopy(close_diff02)"
   ]
  },
  {
   "cell_type": "code",
   "execution_count": 85,
   "metadata": {},
   "outputs": [],
   "source": [
    "h02 = getDailyVol(close02, span0=100)\n",
    "h02 = h02.mean()[0]"
   ]
  },
  {
   "cell_type": "code",
   "execution_count": 86,
   "metadata": {},
   "outputs": [],
   "source": [
    "tEvents02 = getTEvents(close02['price'], h02)"
   ]
  },
  {
   "cell_type": "code",
   "execution_count": 87,
   "metadata": {},
   "outputs": [
    {
     "data": {
      "text/plain": [
       "(21538,)"
      ]
     },
     "execution_count": 87,
     "metadata": {},
     "output_type": "execute_result"
    }
   ],
   "source": [
    "tEvents02.shape"
   ]
  },
  {
   "cell_type": "code",
   "execution_count": 88,
   "metadata": {},
   "outputs": [
    {
     "name": "stdout",
     "output_type": "stream",
     "text": [
      "(28993,)\n",
      "(30859,)\n",
      "(21538,)\n"
     ]
    }
   ],
   "source": [
    "print(tEvents.shape)\n",
    "print(tEvents_log.shape)\n",
    "print(tEvents02.shape)"
   ]
  },
  {
   "cell_type": "code",
   "execution_count": 89,
   "metadata": {},
   "outputs": [],
   "source": [
    "# The series to be used is the close02. It is the close fractionally differentiated with degree d=0.2.\n",
    "# I decided not to use the cumulative sum of the logarithms of the close as mentioned in the exercise 5.5.a \n",
    "# because it is monotonic and the lowest differentiation degree that convert it stationary is d=2.0.\n"
   ]
  },
  {
   "cell_type": "code",
   "execution_count": 90,
   "metadata": {},
   "outputs": [],
   "source": [
    "# Vertical Barrier implementation\n",
    "t1_02 = addVerticalBarrier(tEvents02, close, numDays = 5)\n",
    "\n",
    "# The vertical barrier is implemented using the timestamps from the fractionally differenciated series and with the \n"
   ]
  },
  {
   "cell_type": "code",
   "execution_count": null,
   "metadata": {},
   "outputs": [],
   "source": []
  },
  {
   "cell_type": "code",
   "execution_count": 91,
   "metadata": {},
   "outputs": [],
   "source": [
    "# Triple Barrier Method\n",
    "\n",
    "# For this case the series to be used to calculate the horizontal barriers (limit, stop) is the one without\n",
    "# differentiation.\n"
   ]
  },
  {
   "cell_type": "code",
   "execution_count": 92,
   "metadata": {},
   "outputs": [],
   "source": [
    "close_vol = getDailyVol(close, span0=100)"
   ]
  },
  {
   "cell_type": "code",
   "execution_count": 93,
   "metadata": {},
   "outputs": [
    {
     "data": {
      "text/plain": [
       "<matplotlib.lines.Line2D at 0x20ef4e2ba20>"
      ]
     },
     "execution_count": 93,
     "metadata": {},
     "output_type": "execute_result"
    },
    {
     "data": {
      "image/png": "[encoded data removed]",
      "text/plain": [
       "<Figure size 432x288 with 1 Axes>"
      ]
     },
     "metadata": {
      "needs_background": "light"
     },
     "output_type": "display_data"
    }
   ],
   "source": [
    "close_vol.plot()\n",
    "plt.axhline(y=0.005, color='r', linestyle='-.')\n"
   ]
  },
  {
   "cell_type": "code",
   "execution_count": 94,
   "metadata": {},
   "outputs": [],
   "source": [
    "# Generation of the series \"side\" which defines every event direction.\n",
    "# To this exercise the event direction is defined by the moving average cross.\n",
    "\n",
    "fast_ma = 5\n",
    "slow_ma = 13 "
   ]
  },
  {
   "cell_type": "code",
   "execution_count": 95,
   "metadata": {},
   "outputs": [],
   "source": [
    "# Before calculating the triple barrier method is it necessary to set the side of every event. \n",
    "# For this exercise it is subject to a moving average cross. The series used to calculate the\n",
    "#  moving averages and their crosses is the differentiated one, close02.\n",
    "\n",
    "price02_df = (pd.DataFrame()\n",
    "             .assign(price02 = close02['price'])\n",
    "             .assign(fast = close02.ewm(fast_ma).mean())\n",
    "             .assign(slow = close02.ewm(slow_ma).mean()))\n"
   ]
  },
  {
   "cell_type": "code",
   "execution_count": 96,
   "metadata": {},
   "outputs": [
    {
     "data": {
      "text/plain": [
       "<matplotlib.axes._subplots.AxesSubplot at 0x20ef4e08f28>"
      ]
     },
     "execution_count": 96,
     "metadata": {},
     "output_type": "execute_result"
    },
    {
     "data": {
      "image/png": "[encoded data removed]",
      "text/plain": [
       "<Figure size 432x288 with 1 Axes>"
      ]
     },
     "metadata": {
      "needs_background": "light"
     },
     "output_type": "display_data"
    }
   ],
   "source": [
    "price02_df[2000:2500].plot()"
   ]
  },
  {
   "cell_type": "code",
   "execution_count": 97,
   "metadata": {},
   "outputs": [],
   "source": [
    "side02 = ma_cross(price02_df.fast, price02_df.slow)"
   ]
  },
  {
   "cell_type": "code",
   "execution_count": 98,
   "metadata": {},
   "outputs": [
    {
     "data": {
      "text/plain": [
       "2011-02-10 09:48:42   -1\n",
       "2011-02-10 15:31:11    1\n",
       "2011-02-11 09:29:59   -1\n",
       "2011-02-11 11:03:01    1\n",
       "2011-02-15 13:46:09   -1\n",
       "dtype: int32"
      ]
     },
     "execution_count": 98,
     "metadata": {},
     "output_type": "execute_result"
    }
   ],
   "source": [
    "side02 = pd.concat([side02[side02==1], side02[side02==-1]]).sort_index()\n",
    "side02.head()"
   ]
  },
  {
   "cell_type": "code",
   "execution_count": 99,
   "metadata": {},
   "outputs": [],
   "source": [
    "minRet = 0.005    # This value is taken based upon the daily volatility Non differentiated series plot (above).\n",
    "ptSl = [2, 2]     # The limit and stop is set as twice the daily volatility.\n",
    "trgt = close_vol  # This is the volatility of the close series. The limit and stop are based upon \n",
    "                  # the Non differentiated series."
   ]
  },
  {
   "cell_type": "code",
   "execution_count": 100,
   "metadata": {},
   "outputs": [
    {
     "name": "stderr",
     "output_type": "stream",
     "text": [
      "C:\\Users\\Jorge\\Anaconda3\\lib\\site-packages\\ipykernel_launcher.py:43: FutureWarning: \n",
      "Passing list-likes to .loc or [] with any missing label will raise\n",
      "KeyError in the future, you can use .reindex() as an alternative.\n",
      "\n",
      "See the documentation here:\n",
      "https://pandas.pydata.org/pandas-docs/stable/indexing.html#deprecate-loc-reindex-listlike\n"
     ]
    }
   ],
   "source": [
    "# The series used as input in the getEvents2() function is \"close\" because within this function the limit and stop are set\n",
    "# using the function applyPtSlOnT1(). It is done this way because it is more intuitive to set these values in terms of real \n",
    "# trading moves.\n",
    "\n",
    "events02 = getEvents2(close, tEvents02, ptSl, trgt, minRet, t1=t1_02, side=side02)"
   ]
  },
  {
   "cell_type": "code",
   "execution_count": 101,
   "metadata": {},
   "outputs": [
    {
     "data": {
      "text/plain": [
       "(15041, 3)"
      ]
     },
     "execution_count": 101,
     "metadata": {},
     "output_type": "execute_result"
    }
   ],
   "source": [
    "events02.shape"
   ]
  },
  {
   "cell_type": "code",
   "execution_count": 102,
   "metadata": {},
   "outputs": [
    {
     "data": {
      "text/html": [
       "<div>\n",
       "<style scoped>\n",
       "    .dataframe tbody tr th:only-of-type {\n",
       "        vertical-align: middle;\n",
       "    }\n",
       "\n",
       "    .dataframe tbody tr th {\n",
       "        vertical-align: top;\n",
       "    }\n",
       "\n",
       "    .dataframe thead th {\n",
       "        text-align: right;\n",
       "    }\n",
       "</style>\n",
       "<table border=\"1\" class=\"dataframe\">\n",
       "  <thead>\n",
       "    <tr style=\"text-align: right;\">\n",
       "      <th></th>\n",
       "      <th>side</th>\n",
       "      <th>t1</th>\n",
       "      <th>trgt</th>\n",
       "    </tr>\n",
       "  </thead>\n",
       "  <tbody>\n",
       "    <tr>\n",
       "      <th>2011-02-09 15:01:24</th>\n",
       "      <td>NaN</td>\n",
       "      <td>2011-02-14 15:14:30</td>\n",
       "      <td>0.007073</td>\n",
       "    </tr>\n",
       "    <tr>\n",
       "      <th>2011-02-09 15:11:52</th>\n",
       "      <td>NaN</td>\n",
       "      <td>2011-02-14 15:14:30</td>\n",
       "      <td>0.007048</td>\n",
       "    </tr>\n",
       "    <tr>\n",
       "      <th>2011-02-09 15:28:26</th>\n",
       "      <td>NaN</td>\n",
       "      <td>2011-02-14 15:34:02</td>\n",
       "      <td>0.007007</td>\n",
       "    </tr>\n",
       "    <tr>\n",
       "      <th>2011-02-09 15:32:25</th>\n",
       "      <td>NaN</td>\n",
       "      <td>2011-02-14 15:34:02</td>\n",
       "      <td>0.006991</td>\n",
       "    </tr>\n",
       "    <tr>\n",
       "      <th>2011-02-09 15:54:11</th>\n",
       "      <td>NaN</td>\n",
       "      <td>2011-02-15 09:31:09</td>\n",
       "      <td>0.006809</td>\n",
       "    </tr>\n",
       "  </tbody>\n",
       "</table>\n",
       "</div>"
      ],
      "text/plain": [
       "                     side                  t1      trgt\n",
       "2011-02-09 15:01:24   NaN 2011-02-14 15:14:30  0.007073\n",
       "2011-02-09 15:11:52   NaN 2011-02-14 15:14:30  0.007048\n",
       "2011-02-09 15:28:26   NaN 2011-02-14 15:34:02  0.007007\n",
       "2011-02-09 15:32:25   NaN 2011-02-14 15:34:02  0.006991\n",
       "2011-02-09 15:54:11   NaN 2011-02-15 09:31:09  0.006809"
      ]
     },
     "execution_count": 102,
     "metadata": {},
     "output_type": "execute_result"
    }
   ],
   "source": [
    "events02.head()"
   ]
  },
  {
   "cell_type": "code",
   "execution_count": 103,
   "metadata": {},
   "outputs": [
    {
     "name": "stderr",
     "output_type": "stream",
     "text": [
      "C:\\Users\\Jorge\\Anaconda3\\lib\\site-packages\\ipykernel_launcher.py:25: RuntimeWarning: invalid value encountered in sign\n"
     ]
    },
    {
     "data": {
      "text/html": [
       "<div>\n",
       "<style scoped>\n",
       "    .dataframe tbody tr th:only-of-type {\n",
       "        vertical-align: middle;\n",
       "    }\n",
       "\n",
       "    .dataframe tbody tr th {\n",
       "        vertical-align: top;\n",
       "    }\n",
       "\n",
       "    .dataframe thead th {\n",
       "        text-align: right;\n",
       "    }\n",
       "</style>\n",
       "<table border=\"1\" class=\"dataframe\">\n",
       "  <thead>\n",
       "    <tr style=\"text-align: right;\">\n",
       "      <th></th>\n",
       "      <th>ret</th>\n",
       "      <th>bin</th>\n",
       "    </tr>\n",
       "  </thead>\n",
       "  <tbody>\n",
       "    <tr>\n",
       "      <th>2011-02-10 09:48:42</th>\n",
       "      <td>-0.014035</td>\n",
       "      <td>0.0</td>\n",
       "    </tr>\n",
       "    <tr>\n",
       "      <th>2011-02-10 15:31:11</th>\n",
       "      <td>0.004897</td>\n",
       "      <td>1.0</td>\n",
       "    </tr>\n",
       "    <tr>\n",
       "      <th>2011-02-11 09:29:59</th>\n",
       "      <td>-0.012038</td>\n",
       "      <td>0.0</td>\n",
       "    </tr>\n",
       "    <tr>\n",
       "      <th>2011-02-11 11:03:01</th>\n",
       "      <td>0.007254</td>\n",
       "      <td>1.0</td>\n",
       "    </tr>\n",
       "    <tr>\n",
       "      <th>2011-02-15 13:46:09</th>\n",
       "      <td>-0.010705</td>\n",
       "      <td>0.0</td>\n",
       "    </tr>\n",
       "  </tbody>\n",
       "</table>\n",
       "</div>"
      ],
      "text/plain": [
       "                          ret  bin\n",
       "2011-02-10 09:48:42 -0.014035  0.0\n",
       "2011-02-10 15:31:11  0.004897  1.0\n",
       "2011-02-11 09:29:59 -0.012038  0.0\n",
       "2011-02-11 11:03:01  0.007254  1.0\n",
       "2011-02-15 13:46:09 -0.010705  0.0"
      ]
     },
     "execution_count": 103,
     "metadata": {},
     "output_type": "execute_result"
    }
   ],
   "source": [
    "# Generation of the Bins\n",
    "# The input price series is close (dollar_bar) because the function  getBins() determines if an event's return \n",
    "# was positive or negative setting 1 and 0 repectively.\n",
    "\n",
    "ma_bins02 = getBins(events02, close).dropna()\n",
    "ma_bins02.head()"
   ]
  },
  {
   "cell_type": "code",
   "execution_count": 104,
   "metadata": {},
   "outputs": [
    {
     "data": {
      "text/plain": [
       "(748, 2)"
      ]
     },
     "execution_count": 104,
     "metadata": {},
     "output_type": "execute_result"
    }
   ],
   "source": [
    "ma_bins02.shape"
   ]
  },
  {
   "cell_type": "code",
   "execution_count": 105,
   "metadata": {},
   "outputs": [
    {
     "data": {
      "text/html": [
       "<div>\n",
       "<style scoped>\n",
       "    .dataframe tbody tr th:only-of-type {\n",
       "        vertical-align: middle;\n",
       "    }\n",
       "\n",
       "    .dataframe tbody tr th {\n",
       "        vertical-align: top;\n",
       "    }\n",
       "\n",
       "    .dataframe thead th {\n",
       "        text-align: right;\n",
       "    }\n",
       "</style>\n",
       "<table border=\"1\" class=\"dataframe\">\n",
       "  <thead>\n",
       "    <tr style=\"text-align: right;\">\n",
       "      <th></th>\n",
       "      <th>ret</th>\n",
       "      <th>bin</th>\n",
       "    </tr>\n",
       "  </thead>\n",
       "  <tbody>\n",
       "    <tr>\n",
       "      <th>2011-02-10 09:48:42</th>\n",
       "      <td>-0.014035</td>\n",
       "      <td>0.0</td>\n",
       "    </tr>\n",
       "    <tr>\n",
       "      <th>2011-02-10 15:31:11</th>\n",
       "      <td>0.004897</td>\n",
       "      <td>1.0</td>\n",
       "    </tr>\n",
       "    <tr>\n",
       "      <th>2011-02-11 09:29:59</th>\n",
       "      <td>-0.012038</td>\n",
       "      <td>0.0</td>\n",
       "    </tr>\n",
       "    <tr>\n",
       "      <th>2011-02-11 11:03:01</th>\n",
       "      <td>0.007254</td>\n",
       "      <td>1.0</td>\n",
       "    </tr>\n",
       "    <tr>\n",
       "      <th>2011-02-15 13:46:09</th>\n",
       "      <td>-0.010705</td>\n",
       "      <td>0.0</td>\n",
       "    </tr>\n",
       "  </tbody>\n",
       "</table>\n",
       "</div>"
      ],
      "text/plain": [
       "                          ret  bin\n",
       "2011-02-10 09:48:42 -0.014035  0.0\n",
       "2011-02-10 15:31:11  0.004897  1.0\n",
       "2011-02-11 09:29:59 -0.012038  0.0\n",
       "2011-02-11 11:03:01  0.007254  1.0\n",
       "2011-02-15 13:46:09 -0.010705  0.0"
      ]
     },
     "execution_count": 105,
     "metadata": {},
     "output_type": "execute_result"
    }
   ],
   "source": [
    "ma_bins02.head()"
   ]
  },
  {
   "cell_type": "code",
   "execution_count": 106,
   "metadata": {},
   "outputs": [],
   "source": [
    "# Another explanatory feature is the series autocorrelation. It is calculated from the differentiated series.\n",
    "\n",
    "window = 50\n",
    "autocorr02 = df_rolling_autocorr(close02.price, window, lag=1).dropna() "
   ]
  },
  {
   "cell_type": "code",
   "execution_count": 107,
   "metadata": {
    "scrolled": false
   },
   "outputs": [
    {
     "data": {
      "text/html": [
       "<div>\n",
       "<style scoped>\n",
       "    .dataframe tbody tr th:only-of-type {\n",
       "        vertical-align: middle;\n",
       "    }\n",
       "\n",
       "    .dataframe tbody tr th {\n",
       "        vertical-align: top;\n",
       "    }\n",
       "\n",
       "    .dataframe thead th {\n",
       "        text-align: right;\n",
       "    }\n",
       "</style>\n",
       "<table border=\"1\" class=\"dataframe\">\n",
       "  <thead>\n",
       "    <tr style=\"text-align: right;\">\n",
       "      <th></th>\n",
       "      <th>price02</th>\n",
       "      <th>ma_side02</th>\n",
       "      <th>volatility</th>\n",
       "      <th>autocorr02</th>\n",
       "      <th>ma_bins02</th>\n",
       "    </tr>\n",
       "  </thead>\n",
       "  <tbody>\n",
       "    <tr>\n",
       "      <th>2011-03-10 10:00:11</th>\n",
       "      <td>10.457999</td>\n",
       "      <td>-1.0</td>\n",
       "      <td>0.007850</td>\n",
       "      <td>0.570806</td>\n",
       "      <td>1.0</td>\n",
       "    </tr>\n",
       "    <tr>\n",
       "      <th>2011-03-14 10:13:26</th>\n",
       "      <td>10.597094</td>\n",
       "      <td>-1.0</td>\n",
       "      <td>0.008836</td>\n",
       "      <td>0.687783</td>\n",
       "      <td>1.0</td>\n",
       "    </tr>\n",
       "    <tr>\n",
       "      <th>2011-03-17 09:33:33</th>\n",
       "      <td>10.842780</td>\n",
       "      <td>1.0</td>\n",
       "      <td>0.009157</td>\n",
       "      <td>0.375497</td>\n",
       "      <td>1.0</td>\n",
       "    </tr>\n",
       "    <tr>\n",
       "      <th>2011-03-23 15:09:17</th>\n",
       "      <td>11.142536</td>\n",
       "      <td>1.0</td>\n",
       "      <td>0.010439</td>\n",
       "      <td>0.753442</td>\n",
       "      <td>1.0</td>\n",
       "    </tr>\n",
       "    <tr>\n",
       "      <th>2011-04-07 13:42:55</th>\n",
       "      <td>11.355420</td>\n",
       "      <td>-1.0</td>\n",
       "      <td>0.005081</td>\n",
       "      <td>0.455763</td>\n",
       "      <td>1.0</td>\n",
       "    </tr>\n",
       "  </tbody>\n",
       "</table>\n",
       "</div>"
      ],
      "text/plain": [
       "                       price02  ma_side02  volatility  autocorr02  ma_bins02\n",
       "2011-03-10 10:00:11  10.457999       -1.0    0.007850    0.570806        1.0\n",
       "2011-03-14 10:13:26  10.597094       -1.0    0.008836    0.687783        1.0\n",
       "2011-03-17 09:33:33  10.842780        1.0    0.009157    0.375497        1.0\n",
       "2011-03-23 15:09:17  11.142536        1.0    0.010439    0.753442        1.0\n",
       "2011-04-07 13:42:55  11.355420       -1.0    0.005081    0.455763        1.0"
      ]
     },
     "execution_count": 107,
     "metadata": {},
     "output_type": "execute_result"
    }
   ],
   "source": [
    "features02 = (pd.DataFrame()\n",
    "             .assign(price02 = close02['price'])\n",
    "             .assign(ma_side02 = side02)\n",
    "             .assign(volatility = dailyVol)\n",
    "             .assign(autocorr02 = autocorr02)\n",
    "             .assign(ma_bins02 = ma_bins02['bin'])).dropna()\n",
    "\n",
    "features02[features02['ma_bins02'] == 1].head()"
   ]
  },
  {
   "cell_type": "code",
   "execution_count": 108,
   "metadata": {},
   "outputs": [
    {
     "data": {
      "text/html": [
       "<div>\n",
       "<style scoped>\n",
       "    .dataframe tbody tr th:only-of-type {\n",
       "        vertical-align: middle;\n",
       "    }\n",
       "\n",
       "    .dataframe tbody tr th {\n",
       "        vertical-align: top;\n",
       "    }\n",
       "\n",
       "    .dataframe thead th {\n",
       "        text-align: right;\n",
       "    }\n",
       "</style>\n",
       "<table border=\"1\" class=\"dataframe\">\n",
       "  <thead>\n",
       "    <tr style=\"text-align: right;\">\n",
       "      <th></th>\n",
       "      <th>price02</th>\n",
       "      <th>ma_side02</th>\n",
       "      <th>volatility</th>\n",
       "      <th>autocorr02</th>\n",
       "      <th>ma_bins02</th>\n",
       "    </tr>\n",
       "  </thead>\n",
       "  <tbody>\n",
       "    <tr>\n",
       "      <th>2018-02-16 15:33:11</th>\n",
       "      <td>19.671651</td>\n",
       "      <td>-1.0</td>\n",
       "      <td>0.007693</td>\n",
       "      <td>0.838404</td>\n",
       "      <td>1.0</td>\n",
       "    </tr>\n",
       "    <tr>\n",
       "      <th>2018-02-21 15:05:35</th>\n",
       "      <td>18.872778</td>\n",
       "      <td>-1.0</td>\n",
       "      <td>0.007873</td>\n",
       "      <td>0.792798</td>\n",
       "      <td>0.0</td>\n",
       "    </tr>\n",
       "    <tr>\n",
       "      <th>2018-02-22 11:48:39</th>\n",
       "      <td>19.401527</td>\n",
       "      <td>1.0</td>\n",
       "      <td>0.007233</td>\n",
       "      <td>0.674147</td>\n",
       "      <td>1.0</td>\n",
       "    </tr>\n",
       "    <tr>\n",
       "      <th>2018-02-22 13:23:26</th>\n",
       "      <td>18.889633</td>\n",
       "      <td>-1.0</td>\n",
       "      <td>0.006984</td>\n",
       "      <td>0.670380</td>\n",
       "      <td>0.0</td>\n",
       "    </tr>\n",
       "    <tr>\n",
       "      <th>2018-02-23 10:13:26</th>\n",
       "      <td>19.097426</td>\n",
       "      <td>1.0</td>\n",
       "      <td>0.006691</td>\n",
       "      <td>0.785551</td>\n",
       "      <td>1.0</td>\n",
       "    </tr>\n",
       "  </tbody>\n",
       "</table>\n",
       "</div>"
      ],
      "text/plain": [
       "                       price02  ma_side02  volatility  autocorr02  ma_bins02\n",
       "2018-02-16 15:33:11  19.671651       -1.0    0.007693    0.838404        1.0\n",
       "2018-02-21 15:05:35  18.872778       -1.0    0.007873    0.792798        0.0\n",
       "2018-02-22 11:48:39  19.401527        1.0    0.007233    0.674147        1.0\n",
       "2018-02-22 13:23:26  18.889633       -1.0    0.006984    0.670380        0.0\n",
       "2018-02-23 10:13:26  19.097426        1.0    0.006691    0.785551        1.0"
      ]
     },
     "execution_count": 108,
     "metadata": {},
     "output_type": "execute_result"
    }
   ],
   "source": [
    "features02.tail()"
   ]
  },
  {
   "cell_type": "code",
   "execution_count": 109,
   "metadata": {},
   "outputs": [],
   "source": [
    "# Generation of the X and y matrices to set the training and test sets.\n",
    "\n",
    "X02 = features02[['price02', 'ma_side02', 'volatility', 'autocorr02']]\n",
    "y02 = features02[['ma_bins02']]"
   ]
  },
  {
   "cell_type": "markdown",
   "metadata": {},
   "source": [
    "### K-Fold Cross-Validation"
   ]
  },
  {
   "cell_type": "markdown",
   "metadata": {},
   "source": [
    "Once the features matrices are available the Cross-Validation is carried out through the function cvScore() \n",
    "which evaluates the performance for every set of the CV disposed by the class PurgeKFold()."
   ]
  },
  {
   "cell_type": "markdown",
   "metadata": {},
   "source": [
    "Within the function cvScore() the fit() method and the log_loss() method require an input named \"sample_weights\" that is calculated through the function mpSampleW() which in turn asks a parameter numCoEvents that comes from the function mpNumCoEvents(). Then, the next step is to get these inputs to be able to implement the K-Fold Cross-Validation."
   ]
  },
  {
   "cell_type": "markdown",
   "metadata": {},
   "source": [
    "**NumCoEvents, sample_weights**"
   ]
  },
  {
   "cell_type": "code",
   "execution_count": 110,
   "metadata": {},
   "outputs": [],
   "source": [
    "molecule02 = events02.index\n",
    "numCoEvents02 = mpNumCoEvents(close.index, events02.t1, molecule02)"
   ]
  },
  {
   "cell_type": "code",
   "execution_count": 111,
   "metadata": {},
   "outputs": [
    {
     "data": {
      "text/plain": [
       "dates\n",
       "2011-02-24 12:39:41    35.0\n",
       "2011-02-24 13:03:05    36.0\n",
       "2011-02-24 13:34:49    37.0\n",
       "2011-02-24 13:50:15    38.0\n",
       "2011-02-24 13:54:19    38.0\n",
       "dtype: float64"
      ]
     },
     "execution_count": 111,
     "metadata": {},
     "output_type": "execute_result"
    }
   ],
   "source": [
    "numCoEvents02.iloc[150:155]"
   ]
  },
  {
   "cell_type": "code",
   "execution_count": 112,
   "metadata": {},
   "outputs": [],
   "source": [
    "sample_weights02 = mpSampleW(events02.t1, numCoEvents02, close, molecule02)"
   ]
  },
  {
   "cell_type": "markdown",
   "metadata": {},
   "source": [
    " "
   ]
  },
  {
   "cell_type": "markdown",
   "metadata": {},
   "source": [
    "**The Classifier:** "
   ]
  },
  {
   "cell_type": "code",
   "execution_count": 113,
   "metadata": {},
   "outputs": [],
   "source": [
    "avgU = mpSampleTW(events02.t1, numCoEvents02, molecule02)"
   ]
  },
  {
   "cell_type": "code",
   "execution_count": 114,
   "metadata": {},
   "outputs": [],
   "source": [
    "clf = RandomForestClassifier(n_estimators = 1, criterion = 'entropy', bootstrap = False, class_weight = 'balanced_subsample')"
   ]
  },
  {
   "cell_type": "code",
   "execution_count": 115,
   "metadata": {},
   "outputs": [],
   "source": [
    "# bagging classifier\n",
    "bc = BaggingClassifier(base_estimator = clf, n_estimators = 1000, max_samples = avgU.mean(), max_features = 1)"
   ]
  },
  {
   "cell_type": "markdown",
   "metadata": {},
   "source": [
    " "
   ]
  },
  {
   "cell_type": "markdown",
   "metadata": {},
   "source": [
    "### cvScore():"
   ]
  },
  {
   "cell_type": "markdown",
   "metadata": {},
   "source": [
    "**7.2 a) Derive the performance from a 10-fold CV of an RF classifier on (X,y), with-out shuffling**"
   ]
  },
  {
   "cell_type": "code",
   "execution_count": 116,
   "metadata": {},
   "outputs": [],
   "source": [
    "kfolds = 10\n",
    "embargo = 0"
   ]
  },
  {
   "cell_type": "code",
   "execution_count": 117,
   "metadata": {},
   "outputs": [],
   "source": [
    "NoShuffled_score02 = cvScore2_mc(bc, X02, y02, sample_weights02, scoring='neg_log_loss', t1=events02.t1.loc[X02.index], cv=kfolds, cvGen=None, pctEmbargo=embargo)"
   ]
  },
  {
   "cell_type": "code",
   "execution_count": 118,
   "metadata": {},
   "outputs": [
    {
     "data": {
      "text/plain": [
       "array([-0.71402255, -0.67563599, -0.6834665 , -0.69763236, -0.70798166,\n",
       "       -0.70005234, -0.68617447, -0.71617669, -0.68864216, -0.68968618])"
      ]
     },
     "execution_count": 118,
     "metadata": {},
     "output_type": "execute_result"
    }
   ],
   "source": [
    "NoShuffled_score02"
   ]
  },
  {
   "cell_type": "code",
   "execution_count": 119,
   "metadata": {},
   "outputs": [
    {
     "data": {
      "text/plain": [
       "-0.6959470900282814"
      ]
     },
     "execution_count": 119,
     "metadata": {},
     "output_type": "execute_result"
    }
   ],
   "source": [
    "NoShuffled_score02_mean = NoShuffled_score02.mean()\n",
    "NoShuffled_score02_mean"
   ]
  },
  {
   "cell_type": "markdown",
   "metadata": {},
   "source": [
    " "
   ]
  },
  {
   "cell_type": "markdown",
   "metadata": {},
   "source": [
    "**b) Derive the performance from a 10-fold CV of an RF on (X,y), with shuffling.**"
   ]
  },
  {
   "cell_type": "code",
   "execution_count": 120,
   "metadata": {},
   "outputs": [],
   "source": [
    "shuffled_score02 = cvScore_shuffled(bc, X02, y02, sample_weights02, scoring='neg_log_loss', t1=events02.t1.loc[X02.index], cv=kfolds, pctEmbargo=embargo)"
   ]
  },
  {
   "cell_type": "code",
   "execution_count": 121,
   "metadata": {},
   "outputs": [
    {
     "data": {
      "text/plain": [
       "array([-0.69798087, -0.72029453, -0.68691291, -0.70690554, -0.67822255,\n",
       "       -0.68774148, -0.68642062, -0.70110882, -0.70214714, -0.69462303])"
      ]
     },
     "execution_count": 121,
     "metadata": {},
     "output_type": "execute_result"
    }
   ],
   "source": [
    "shuffled_score02"
   ]
  },
  {
   "cell_type": "code",
   "execution_count": 122,
   "metadata": {},
   "outputs": [
    {
     "data": {
      "text/plain": [
       "-0.6962357478133601"
      ]
     },
     "execution_count": 122,
     "metadata": {},
     "output_type": "execute_result"
    }
   ],
   "source": [
    "shuffled_score02_mean = shuffled_score02.mean()\n",
    "shuffled_score02_mean"
   ]
  },
  {
   "cell_type": "markdown",
   "metadata": {},
   "source": [
    " "
   ]
  },
  {
   "cell_type": "markdown",
   "metadata": {},
   "source": [
    "**c) Why are both results so different?**"
   ]
  },
  {
   "cell_type": "markdown",
   "metadata": {},
   "source": [
    "Although the differentiated series was included in many cases within the features, for instance, the moving averages crosses were generated upon the differentiated (d=0.2) series, the differentiated series (stationary) was used as a feature, and the autocorrelation was calucalated based on that series, the log_loss results from the Noshuffled and Shuffled KFold Cross-Validation are quite similar as opposed the author suggestion."
   ]
  },
  {
   "cell_type": "markdown",
   "metadata": {},
   "source": [
    " "
   ]
  },
  {
   "cell_type": "markdown",
   "metadata": {},
   "source": [
    "**d) How does shuffling leak information?**"
   ]
  },
  {
   "cell_type": "markdown",
   "metadata": {},
   "source": [
    "Source: Advances in Financial Machine Learning - 7.3 WHY K-FOLD FAILS IN FINANCE\n",
    "\n",
    "Leakage takes place when the trainning set contains information that also appears in the testing set. Consider a serially correlated feature $X$ that is associated with labels $Y$ that are formed on overlapping data; by placing t and t+1 in different sets, information is leaked. This happens when a serially autocorrelated data set is shuffled."
   ]
  },
  {
   "cell_type": "markdown",
   "metadata": {},
   "source": [
    " "
   ]
  },
  {
   "cell_type": "markdown",
   "metadata": {},
   "source": [
    "**7.3) Take the same pair of matrices (X,y) you used in exercised 2.**"
   ]
  },
  {
   "cell_type": "markdown",
   "metadata": {},
   "source": [
    "**a) Derive the performance from a 10-fold purged CV of an RF on (X,y), with 1% embargo.**"
   ]
  },
  {
   "cell_type": "code",
   "execution_count": 123,
   "metadata": {},
   "outputs": [
    {
     "data": {
      "text/plain": [
       "0"
      ]
     },
     "execution_count": 123,
     "metadata": {},
     "output_type": "execute_result"
    }
   ],
   "source": [
    "embargo"
   ]
  },
  {
   "cell_type": "code",
   "execution_count": 124,
   "metadata": {},
   "outputs": [],
   "source": [
    "# The matrices used previously are X02 y y02.\n",
    "\n",
    "score_embargo = cvScore2_mc(bc, X02, y02, sample_weights02, scoring='neg_log_loss', t1=events02.t1.loc[X02.index], \n",
    "                            cv=kfolds, cvGen=None, pctEmbargo=embargo)"
   ]
  },
  {
   "cell_type": "code",
   "execution_count": 125,
   "metadata": {},
   "outputs": [
    {
     "data": {
      "text/plain": [
       "array([-0.72017909, -0.68121441, -0.69514632, -0.70252602, -0.71027406,\n",
       "       -0.69582731, -0.68895095, -0.71662331, -0.68710929, -0.69902251])"
      ]
     },
     "execution_count": 125,
     "metadata": {},
     "output_type": "execute_result"
    }
   ],
   "source": [
    "score_embargo"
   ]
  },
  {
   "cell_type": "markdown",
   "metadata": {},
   "source": [
    "**b) Why is the performance lower?**   \n",
    "**c) Why is the result more realistic?**"
   ]
  },
  {
   "cell_type": "markdown",
   "metadata": {},
   "source": [
    "The performance is similar to the previous 10-fold cross-validation. Intuitively it should be lower due to there is no information leakage."
   ]
  },
  {
   "cell_type": "markdown",
   "metadata": {},
   "source": [
    " "
   ]
  },
  {
   "cell_type": "markdown",
   "metadata": {},
   "source": [
    "**7.4) In this chapter we have focused on one reason why k-fold CV fails in financial applications, namely the fact that some information from the testing set leaks into the trainning set. Can you think of a second for CV's failure?**"
   ]
  },
  {
   "cell_type": "markdown",
   "metadata": {},
   "source": [
    "One reason k-fold CV fails in finance is because observations cannot be assumed to be drawn from an IID process. A second reason for CV's failure is that the testing set is used multiple times in the process of developing a model, leading to multiple testing and selection bias.\n",
    "\n",
    "source: Advances in Financial Machine Learning, section 7.3-WHY K-FOLD CV FAILS IN FINANCE.\n",
    "\n"
   ]
  },
  {
   "cell_type": "markdown",
   "metadata": {},
   "source": [
    " "
   ]
  },
  {
   "cell_type": "markdown",
   "metadata": {},
   "source": [
    "**7.5) Suppose you try one thousand configurations of the same investment strategy, and perform a CV on each of them. Some results are guaranteed to look good, just by sheer luck. if you only publish those positive results, and hide the rest, your audience will not be able to deduce that these results are false positives, a statistical fluke. This phenomenon is called \"selection bias\".**"
   ]
  },
  {
   "cell_type": "markdown",
   "metadata": {},
   "source": [
    "**a) Can you imagine one procedure to prevent this?**"
   ]
  },
  {
   "cell_type": "markdown",
   "metadata": {},
   "source": [
    "A methodology called \"Reality check\" proposed by Halbert White - \"A reality Check for Data Snooping\" (2000).\n",
    "\n",
    "\"The idea is to generate the empirical distribution drom the full set of models (or trading strategies in this context) that lead to the best-performing strategy and to draw inferencefrom this distribution for certain performancemeasures.\"\n",
    "\n",
    "Source: Technical Trading-Rule Profitability, Data Snooping, and Reality Check: Evidence from the Foreign Exchange Market, by MIN QI and YANGRU WU."
   ]
  },
  {
   "cell_type": "markdown",
   "metadata": {},
   "source": [
    " "
   ]
  },
  {
   "cell_type": "markdown",
   "metadata": {},
   "source": [
    "**b) What if we split the dataset in three sets: training, validation, and testing? The validation set is used to evaluate the trained parameters, and the testing is run only on the one configuration chosen in the validation phase. In what case does this procedure still fail?**"
   ]
  },
  {
   "cell_type": "markdown",
   "metadata": {},
   "source": [
    "This can fail if the data set is shuffled generating information leakage. This takes place in a serially correlated feature  𝑋  that is associated with labels  𝑌  that are formed on overlapping data; by placing t and t+1 in different sets, information is leaked. \n",
    "\n",
    "Other situation that would make this procedure fail is the data mining bias. Even though the sets of variables is evaluated in a validation and test set it might not be statistically significant."
   ]
  },
  {
   "cell_type": "markdown",
   "metadata": {},
   "source": [
    "  \n"
   ]
  },
  {
   "cell_type": "markdown",
   "metadata": {},
   "source": [
    "**c) What is the key to avoiding selection bias?**"
   ]
  },
  {
   "cell_type": "markdown",
   "metadata": {},
   "source": [
    "Evaluate the results of the selected strategy (which is the one with best results) with an empirical distribution made from the results of the whole set of strategies. "
   ]
  }
 ],
 "metadata": {
  "kernelspec": {
   "display_name": "Python 3",
   "language": "python",
   "name": "python3"
  },
  "language_info": {
   "codemirror_mode": {
    "name": "ipython",
    "version": 3
   },
   "file_extension": ".py",
   "mimetype": "text/x-python",
   "name": "python",
   "nbconvert_exporter": "python",
   "pygments_lexer": "ipython3",
   "version": "3.7.1"
  }
 },
 "nbformat": 4,
 "nbformat_minor": 2
}
